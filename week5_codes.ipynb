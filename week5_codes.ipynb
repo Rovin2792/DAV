{
 "cells": [
  {
   "cell_type": "markdown",
   "id": "750aea62",
   "metadata": {},
   "source": [
    "Data Cleaning and PreparationExercises Name: Rovin Castelino\n",
    "Registration Number: 240957001\n",
    "PC 46\n",
    "24/01/2025"
   ]
  },
  {
   "cell_type": "markdown",
   "id": "db77475b",
   "metadata": {},
   "source": [
    "1. Create a CSV file called “Movies.csv” with details of 10 movies- Movie Name, Language, Genre, Rating, Review."
   ]
  },
  {
   "cell_type": "markdown",
   "id": "d74a6b03",
   "metadata": {},
   "source": [
    "a. Read CSV file into a dataframe and find the movie with the highest rating. "
   ]
  },
  {
   "cell_type": "code",
   "execution_count": 7,
   "id": "780bd6e4",
   "metadata": {},
   "outputs": [
    {
     "name": "stdout",
     "output_type": "stream",
     "text": [
      "Highest Rated Movie:\n",
      " Movie Name     Aradhana\n",
      "Language          Hindi\n",
      "Genre             Drama\n",
      "Rating              9.7\n",
      "Review        Excellent\n",
      "Name: 7, dtype: object\n"
     ]
    }
   ],
   "source": [
    "import pandas as pd\n",
    "df=pd.read_csv(\"examples/Movie.csv\")\n",
    "highest_rated_movie = df.loc[df[\"Rating\"].idxmax()]\n",
    "print(\"Highest Rated Movie:\\n\", highest_rated_movie)"
   ]
  },
  {
   "cell_type": "markdown",
   "id": "d8ce697a",
   "metadata": {},
   "source": [
    "b. Write the details of all “Hindi movies into a file “HindiMovies.csv”. "
   ]
  },
  {
   "cell_type": "code",
   "execution_count": 9,
   "id": "b6bc4ac0",
   "metadata": {},
   "outputs": [
    {
     "name": "stdout",
     "output_type": "stream",
     "text": [
      "Hindi Movies saved to HindiMovies.csv\n"
     ]
    },
    {
     "data": {
      "text/html": [
       "<div>\n",
       "<style scoped>\n",
       "    .dataframe tbody tr th:only-of-type {\n",
       "        vertical-align: middle;\n",
       "    }\n",
       "\n",
       "    .dataframe tbody tr th {\n",
       "        vertical-align: top;\n",
       "    }\n",
       "\n",
       "    .dataframe thead th {\n",
       "        text-align: right;\n",
       "    }\n",
       "</style>\n",
       "<table border=\"1\" class=\"dataframe\">\n",
       "  <thead>\n",
       "    <tr style=\"text-align: right;\">\n",
       "      <th></th>\n",
       "      <th>Movie Name</th>\n",
       "      <th>Language</th>\n",
       "      <th>Genre</th>\n",
       "      <th>Rating</th>\n",
       "      <th>Review</th>\n",
       "    </tr>\n",
       "  </thead>\n",
       "  <tbody>\n",
       "    <tr>\n",
       "      <th>1</th>\n",
       "      <td>Dangal</td>\n",
       "      <td>Hindi</td>\n",
       "      <td>Drama</td>\n",
       "      <td>8.4</td>\n",
       "      <td>Excellent</td>\n",
       "    </tr>\n",
       "    <tr>\n",
       "      <th>3</th>\n",
       "      <td>3 Idiots</td>\n",
       "      <td>Hindi</td>\n",
       "      <td>Comedy</td>\n",
       "      <td>8.4</td>\n",
       "      <td>Very Good</td>\n",
       "    </tr>\n",
       "    <tr>\n",
       "      <th>5</th>\n",
       "      <td>Piku</td>\n",
       "      <td>Hindi</td>\n",
       "      <td>Comedy</td>\n",
       "      <td>7.6</td>\n",
       "      <td>Good</td>\n",
       "    </tr>\n",
       "    <tr>\n",
       "      <th>7</th>\n",
       "      <td>Aradhana</td>\n",
       "      <td>Hindi</td>\n",
       "      <td>Drama</td>\n",
       "      <td>9.7</td>\n",
       "      <td>Excellent</td>\n",
       "    </tr>\n",
       "    <tr>\n",
       "      <th>9</th>\n",
       "      <td>The Lunchbox</td>\n",
       "      <td>Hindi</td>\n",
       "      <td>Drama</td>\n",
       "      <td>7.8</td>\n",
       "      <td>Good</td>\n",
       "    </tr>\n",
       "  </tbody>\n",
       "</table>\n",
       "</div>"
      ],
      "text/plain": [
       "     Movie Name Language   Genre  Rating     Review\n",
       "1        Dangal    Hindi   Drama     8.4  Excellent\n",
       "3      3 Idiots    Hindi  Comedy     8.4  Very Good\n",
       "5          Piku    Hindi  Comedy     7.6       Good\n",
       "7      Aradhana    Hindi   Drama     9.7  Excellent\n",
       "9  The Lunchbox    Hindi   Drama     7.8       Good"
      ]
     },
     "execution_count": 9,
     "metadata": {},
     "output_type": "execute_result"
    }
   ],
   "source": [
    "hindi_movies = df[df[\"Language\"] == \"Hindi\"]\n",
    "hindi_movies.to_csv(\"examples/HindiMovies.csv\", index=False)\n",
    "print(\"Hindi Movies saved to HindiMovies.csv\")\n",
    "hindi_movies"
   ]
  },
  {
   "cell_type": "markdown",
   "id": "c283450a",
   "metadata": {},
   "source": [
    "2. For the  CEREALS dataset, perform data preprocessing and answer the following questions.  "
   ]
  },
  {
   "cell_type": "markdown",
   "id": "b8bfcedf",
   "metadata": {},
   "source": [
    "a. Create a table with the 5 number summary of all the numeric attributes. "
   ]
  },
  {
   "cell_type": "code",
   "execution_count": 1,
   "id": "daa5a649",
   "metadata": {},
   "outputs": [
    {
     "name": "stdout",
     "output_type": "stream",
     "text": [
      "Five Number Summary (Before):\n",
      "     calories  protein  fat  sodium  fiber  vitamins  shelf  weight  cups  \\\n",
      "min      50.0      1.0  0.0     0.0   0.00       0.0    1.0     0.5  0.25   \n",
      "25%     100.0      2.0  0.0   132.5   0.75      25.0    1.0     1.0  0.67   \n",
      "50%     110.0      2.5  1.0   180.0   1.75      25.0    2.0     1.0  0.75   \n",
      "75%     110.0      3.0  2.0   212.5   3.00      25.0    3.0     1.0  1.00   \n",
      "max     160.0      6.0  5.0   320.0  14.00     100.0    3.0     1.5  1.50   \n",
      "\n",
      "        rating  \n",
      "min  18.042851  \n",
      "25%  32.932466  \n",
      "50%  40.253086  \n",
      "75%  50.780847  \n",
      "max  93.704912  \n"
     ]
    }
   ],
   "source": [
    "import pandas as pd\n",
    "import numpy as np\n",
    "cereals_df=pd.read_csv(\"examples/Cereals.csv\")\n",
    "summary_before = cereals_df.describe().loc[['min', '25%', '50%', '75%', 'max']]\n",
    "print(\"Five Number Summary (Before):\")\n",
    "print(summary_before)"
   ]
  },
  {
   "cell_type": "markdown",
   "id": "ae12773a",
   "metadata": {},
   "source": [
    "b. For each of the numeric attributes (proteins upto vitamins) , identify and replace all missing data(indicated with -1) with the arithmetic mean of the attribute. \n",
    "c. Create a table with the 5 number summary of all the numeric attributes after treating missing values.  Do you think the \n",
    "strategy used in dealing with missing values was effective? "
   ]
  },
  {
   "cell_type": "code",
   "execution_count": 2,
   "id": "b1045579",
   "metadata": {},
   "outputs": [
    {
     "name": "stdout",
     "output_type": "stream",
     "text": [
      "\n",
      "Five Number Summary (After Treating Missing Values):\n",
      "     calories  protein  fat  sodium  fiber  vitamins  shelf  weight  cups  \\\n",
      "min      50.0      1.0  0.0     0.0   0.00       0.0    1.0     0.5  0.25   \n",
      "25%     100.0      2.0  0.0   132.5   0.75      25.0    1.0     1.0  0.67   \n",
      "50%     110.0      2.5  1.0   180.0   1.75      25.0    2.0     1.0  0.75   \n",
      "75%     110.0      3.0  2.0   212.5   3.00      25.0    3.0     1.0  1.00   \n",
      "max     160.0      6.0  5.0   320.0  14.00     100.0    3.0     1.5  1.50   \n",
      "\n",
      "        rating  \n",
      "min  18.042851  \n",
      "25%  32.932466  \n",
      "50%  40.253086  \n",
      "75%  50.780847  \n",
      "max  93.704912  \n"
     ]
    },
    {
     "name": "stderr",
     "output_type": "stream",
     "text": [
      "/tmp/ipykernel_474326/3613264110.py:2: FutureWarning: Dropping of nuisance columns in DataFrame reductions (with 'numeric_only=None') is deprecated; in a future version this will raise TypeError.  Select only valid columns before calling the reduction.\n",
      "  cereals_df.fillna(cereals_df.mean(), inplace=True)\n"
     ]
    }
   ],
   "source": [
    "cereals_df.replace(-1, np.nan, inplace=True)\n",
    "cereals_df.fillna(cereals_df.mean(), inplace=True)\n",
    "summary_after_missing = cereals_df.describe().loc[['min', '25%', '50%',  '75%', 'max']]\n",
    "print(\"\\nFive Number Summary (After Treating Missing Values):\")\n",
    "print(summary_after_missing)"
   ]
  },
  {
   "cell_type": "markdown",
   "id": "f1186c9a",
   "metadata": {},
   "source": [
    "d. For each numeric attribute (proteins upto vitamins), identify and replace all noisy data with the median of attribute.  \n",
    "e. Create a table with the 5 number summary of all the numeric attributes after treating noisy values.  Do you think the \n",
    "strategy used in dealing with noisy values was effective?"
   ]
  },
  {
   "cell_type": "code",
   "execution_count": 6,
   "id": "c237ea70",
   "metadata": {},
   "outputs": [
    {
     "name": "stdout",
     "output_type": "stream",
     "text": [
      "\n",
      "Five Number Summary (After Treating Noisy Values):\n",
      "     calories  protein  fat  sodium  fiber  vitamins  shelf  weight  cups  \\\n",
      "min      90.0     1.00  0.0    15.0  0.000      25.0    1.0     1.0  0.25   \n",
      "25%     100.0     2.00  0.0   147.5  0.750      25.0    1.0     1.0  0.67   \n",
      "50%     110.0     2.25  1.0   180.0  1.625      25.0    2.0     1.0  0.75   \n",
      "75%     110.0     3.00  2.0   212.5  3.000      25.0    3.0     1.0  1.00   \n",
      "max     120.0     4.00  5.0   320.0  6.000      25.0    3.0     1.0  1.33   \n",
      "\n",
      "        rating  \n",
      "min  18.042851  \n",
      "25%  32.932466  \n",
      "50%  40.179526  \n",
      "75%  50.031833  \n",
      "max  74.472949  \n"
     ]
    }
   ],
   "source": [
    "for col in cereals_df.columns:\n",
    "    if cereals_df[col].dtype in ['float64', 'int64']:\n",
    "        Q1 = cereals_df[col].quantile(0.25)\n",
    "        Q3 = cereals_df[col].quantile(0.75)\n",
    "        IQR = Q3 - Q1\n",
    "        low = Q1 - 1.5 * IQR\n",
    "        upper = Q3 + 1.5 * IQR\n",
    "        median = cereals_df[col].median()\n",
    "        cereals_df[col] = np.where((cereals_df[col] < low) | (cereals_df[col] > upper), median, cereals_df[col])\n",
    "summary_after_noise = cereals_df.describe().loc[['min', '25%', '50%', '75%', 'max']]\n",
    "print(\"\\nFive Number Summary (After Treating Noisy Values):\")\n",
    "print(summary_after_noise)"
   ]
  },
  {
   "cell_type": "code",
   "execution_count": null,
   "id": "8f1d2a42",
   "metadata": {},
   "outputs": [],
   "source": []
  }
 ],
 "metadata": {
  "kernelspec": {
   "display_name": "Python 3 (ipykernel)",
   "language": "python",
   "name": "python3"
  },
  "language_info": {
   "codemirror_mode": {
    "name": "ipython",
    "version": 3
   },
   "file_extension": ".py",
   "mimetype": "text/x-python",
   "name": "python",
   "nbconvert_exporter": "python",
   "pygments_lexer": "ipython3",
   "version": "3.10.12"
  }
 },
 "nbformat": 4,
 "nbformat_minor": 5
}
