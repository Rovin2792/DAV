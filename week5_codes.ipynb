{
 "cells": [
  {
   "cell_type": "markdown",
   "id": "750aea62",
   "metadata": {},
   "source": [
    "Data Cleaning and PreparationExercises Name: Rovin Castelino\n",
    "Registration Number: 240957001\n",
    "PC 46\n",
    "24/01/2025"
   ]
  },
  {
   "cell_type": "markdown",
   "id": "db77475b",
   "metadata": {},
   "source": [
    "1. Create a CSV file called “Movies.csv” with details of 10 movies- Movie Name, Language, Genre, Rating, Review."
   ]
  },
  {
   "cell_type": "markdown",
   "id": "d74a6b03",
   "metadata": {},
   "source": [
    "a. Read CSV file into a dataframe and find the movie with the highest rating. "
   ]
  },
  {
   "cell_type": "code",
   "execution_count": 12,
   "id": "780bd6e4",
   "metadata": {},
   "outputs": [
    {
     "name": "stdout",
     "output_type": "stream",
     "text": [
      "Highest Rated Movie:\n",
      " Name                     Toy Story\n",
      "Language                   English\n",
      "Genre             Animation|Comedy\n",
      "Rating                         9.1\n",
      "Review      This a fantastic movie\n",
      "Name: 0, dtype: object\n"
     ]
    }
   ],
   "source": [
    "import pandas as pd\n",
    "df=pd.read_csv(\"examples/movie.csv\")\n",
    "highest_rated_movie = df.loc[df[\"Rating\"].idxmax()]\n",
    "print(\"Highest Rated Movie:\\n\", highest_rated_movie)"
   ]
  },
  {
   "cell_type": "markdown",
   "id": "d8ce697a",
   "metadata": {},
   "source": [
    "b. Write the details of all “Hindi movies into a file “HindiMovies.csv”. "
   ]
  },
  {
   "cell_type": "code",
   "execution_count": 13,
   "id": "b6bc4ac0",
   "metadata": {},
   "outputs": [
    {
     "name": "stdout",
     "output_type": "stream",
     "text": [
      "Hindi Movies saved to HindiMovies.csv\n"
     ]
    },
    {
     "data": {
      "text/html": [
       "<div>\n",
       "<style scoped>\n",
       "    .dataframe tbody tr th:only-of-type {\n",
       "        vertical-align: middle;\n",
       "    }\n",
       "\n",
       "    .dataframe tbody tr th {\n",
       "        vertical-align: top;\n",
       "    }\n",
       "\n",
       "    .dataframe thead th {\n",
       "        text-align: right;\n",
       "    }\n",
       "</style>\n",
       "<table border=\"1\" class=\"dataframe\">\n",
       "  <thead>\n",
       "    <tr style=\"text-align: right;\">\n",
       "      <th></th>\n",
       "      <th>Name</th>\n",
       "      <th>Language</th>\n",
       "      <th>Genre</th>\n",
       "      <th>Rating</th>\n",
       "      <th>Review</th>\n",
       "    </tr>\n",
       "  </thead>\n",
       "  <tbody>\n",
       "    <tr>\n",
       "      <th>2</th>\n",
       "      <td>The Great Indian Family</td>\n",
       "      <td>Hindi</td>\n",
       "      <td>Family</td>\n",
       "      <td>5.3</td>\n",
       "      <td>Of all the films I have seen, this one has got...</td>\n",
       "    </tr>\n",
       "    <tr>\n",
       "      <th>3</th>\n",
       "      <td>Andhadhun</td>\n",
       "      <td>Hindi</td>\n",
       "      <td>Crime|Mystery|Thriller</td>\n",
       "      <td>8.7</td>\n",
       "      <td>I watched this film not really expecting much</td>\n",
       "    </tr>\n",
       "    <tr>\n",
       "      <th>5</th>\n",
       "      <td>Dangal</td>\n",
       "      <td>Hindi</td>\n",
       "      <td>Action|Biography|Drama</td>\n",
       "      <td>7.1</td>\n",
       "      <td>This film tried to be too many things all at once</td>\n",
       "    </tr>\n",
       "    <tr>\n",
       "      <th>9</th>\n",
       "      <td>3 Idiots</td>\n",
       "      <td>Hindi</td>\n",
       "      <td>Comedy|Drama</td>\n",
       "      <td>8.9</td>\n",
       "      <td>I laughed all the way through this movie.</td>\n",
       "    </tr>\n",
       "  </tbody>\n",
       "</table>\n",
       "</div>"
      ],
      "text/plain": [
       "                      Name Language                   Genre  Rating  \\\n",
       "2  The Great Indian Family    Hindi                  Family     5.3   \n",
       "3                Andhadhun    Hindi  Crime|Mystery|Thriller     8.7   \n",
       "5                   Dangal    Hindi  Action|Biography|Drama     7.1   \n",
       "9                 3 Idiots    Hindi            Comedy|Drama     8.9   \n",
       "\n",
       "                                              Review  \n",
       "2  Of all the films I have seen, this one has got...  \n",
       "3      I watched this film not really expecting much  \n",
       "5  This film tried to be too many things all at once  \n",
       "9          I laughed all the way through this movie.  "
      ]
     },
     "execution_count": 13,
     "metadata": {},
     "output_type": "execute_result"
    }
   ],
   "source": [
    "hindi_movies = df[df[\"Language\"] == \"Hindi\"]\n",
    "hindi_movies.to_csv(\"examples/HindiMovies.csv\", index=False)\n",
    "print(\"Hindi Movies saved to HindiMovies.csv\")\n",
    "hindi_movies"
   ]
  },
  {
   "cell_type": "markdown",
   "id": "c283450a",
   "metadata": {},
   "source": [
    "2. For the  CEREALS dataset, perform data preprocessing and answer the following questions.  "
   ]
  },
  {
   "cell_type": "markdown",
   "id": "b8bfcedf",
   "metadata": {},
   "source": [
    "a. Create a table with the 5 number summary of all the numeric attributes. "
   ]
  },
  {
   "cell_type": "code",
   "execution_count": 14,
   "id": "daa5a649",
   "metadata": {},
   "outputs": [
    {
     "name": "stdout",
     "output_type": "stream",
     "text": [
      "Five Number Summary (Before):\n",
      "     calories  protein  fat  sodium  fiber  vitamins  shelf  weight  cups  \\\n",
      "min      50.0      1.0  0.0     0.0   0.00       0.0    1.0     0.5  0.25   \n",
      "25%     100.0      2.0  0.0   132.5   0.75      25.0    1.0     1.0  0.67   \n",
      "50%     110.0      2.5  1.0   180.0   1.75      25.0    2.0     1.0  0.75   \n",
      "75%     110.0      3.0  2.0   212.5   3.00      25.0    3.0     1.0  1.00   \n",
      "max     160.0      6.0  5.0   320.0  14.00     100.0    3.0     1.5  1.50   \n",
      "\n",
      "        rating  \n",
      "min  18.042851  \n",
      "25%  32.932466  \n",
      "50%  40.253086  \n",
      "75%  50.780847  \n",
      "max  93.704912  \n"
     ]
    }
   ],
   "source": [
    "import pandas as pd\n",
    "import numpy as np\n",
    "cereals_df=pd.read_csv(\"examples/Cereals.csv\")\n",
    "summary_before = cereals_df.describe().loc[['min', '25%', '50%', '75%', 'max']]\n",
    "print(\"Five Number Summary (Before):\")\n",
    "print(summary_before)"
   ]
  },
  {
   "cell_type": "markdown",
   "id": "ae12773a",
   "metadata": {},
   "source": [
    "b. For each of the numeric attributes (proteins upto vitamins) , identify and replace all missing data(indicated with -1) with the arithmetic mean of the attribute. \n",
    "c. Create a table with the 5 number summary of all the numeric attributes after treating missing values.  Do you think the \n",
    "strategy used in dealing with missing values was effective? "
   ]
  },
  {
   "cell_type": "code",
   "execution_count": 15,
   "id": "b1045579",
   "metadata": {},
   "outputs": [
    {
     "name": "stdout",
     "output_type": "stream",
     "text": [
      "\n",
      "Five Number Summary (After Treating Missing Values):\n",
      "     calories  protein  fat  sodium  fiber  vitamins  shelf  weight  cups  \\\n",
      "min      50.0      1.0  0.0     0.0   0.00       0.0    1.0     0.5  0.25   \n",
      "25%     100.0      2.0  0.0   132.5   0.75      25.0    1.0     1.0  0.67   \n",
      "50%     110.0      2.5  1.0   180.0   1.75      25.0    2.0     1.0  0.75   \n",
      "75%     110.0      3.0  2.0   212.5   3.00      25.0    3.0     1.0  1.00   \n",
      "max     160.0      6.0  5.0   320.0  14.00     100.0    3.0     1.5  1.50   \n",
      "\n",
      "        rating  \n",
      "min  18.042851  \n",
      "25%  32.932466  \n",
      "50%  40.253086  \n",
      "75%  50.780847  \n",
      "max  93.704912  \n"
     ]
    }
   ],
   "source": [
    "cereals_df.replace(-1, np.nan, inplace=True)\n",
    "cereals_df.fillna(cereals_df.select_dtypes(include=[np.number]).mean(), inplace=True)\n",
    "summary_after_missing = cereals_df.describe().loc[['min', '25%', '50%',  '75%', 'max']]\n",
    "print(\"\\nFive Number Summary (After Treating Missing Values):\")\n",
    "print(summary_after_missing)"
   ]
  },
  {
   "cell_type": "markdown",
   "id": "f1186c9a",
   "metadata": {},
   "source": [
    "d. For each numeric attribute (proteins upto vitamins), identify and replace all noisy data with the median of attribute.  \n",
    "e. Create a table with the 5 number summary of all the numeric attributes after treating noisy values.  Do you think the \n",
    "strategy used in dealing with noisy values was effective?"
   ]
  },
  {
   "cell_type": "code",
   "execution_count": 16,
   "id": "c237ea70",
   "metadata": {},
   "outputs": [
    {
     "name": "stdout",
     "output_type": "stream",
     "text": [
      "\n",
      "Five Number Summary (After Treating Noisy Values):\n",
      "     calories  protein  fat  sodium  fiber  vitamins  shelf  weight  cups  \\\n",
      "min      90.0     1.00  0.0    15.0  0.000      25.0    1.0     1.0  0.25   \n",
      "25%     100.0     2.00  0.0   147.5  0.750      25.0    1.0     1.0  0.67   \n",
      "50%     110.0     2.25  1.0   180.0  1.625      25.0    2.0     1.0  0.75   \n",
      "75%     110.0     3.00  2.0   212.5  3.000      25.0    3.0     1.0  1.00   \n",
      "max     120.0     4.00  5.0   320.0  6.000      25.0    3.0     1.0  1.33   \n",
      "\n",
      "        rating  \n",
      "min  18.042851  \n",
      "25%  32.932466  \n",
      "50%  40.179526  \n",
      "75%  50.031833  \n",
      "max  74.472949  \n"
     ]
    }
   ],
   "source": [
    "for col in cereals_df.columns:\n",
    "    if cereals_df[col].dtype in ['float64', 'int64']:\n",
    "        Q1 = cereals_df[col].quantile(0.25)\n",
    "        Q3 = cereals_df[col].quantile(0.75)\n",
    "        IQR = Q3 - Q1\n",
    "        low = Q1 - 1.5 * IQR\n",
    "        upper = Q3 + 1.5 * IQR\n",
    "        median = cereals_df[col].median()\n",
    "        cereals_df[col] = np.where((cereals_df[col] < low) | (cereals_df[col] > upper), median, cereals_df[col])\n",
    "summary_after_noise = cereals_df.describe().loc[['min', '25%', '50%', '75%', 'max']]\n",
    "print(\"\\nFive Number Summary (After Treating Noisy Values):\")\n",
    "print(summary_after_noise)"
   ]
  },
  {
   "cell_type": "code",
   "execution_count": null,
   "id": "8f1d2a42",
   "metadata": {},
   "outputs": [],
   "source": []
  }
 ],
 "metadata": {
  "kernelspec": {
   "display_name": ".venv",
   "language": "python",
   "name": "python3"
  },
  "language_info": {
   "codemirror_mode": {
    "name": "ipython",
    "version": 3
   },
   "file_extension": ".py",
   "mimetype": "text/x-python",
   "name": "python",
   "nbconvert_exporter": "python",
   "pygments_lexer": "ipython3",
   "version": "3.10.12"
  }
 },
 "nbformat": 4,
 "nbformat_minor": 5
}
