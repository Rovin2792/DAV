{
 "cells": [
  {
   "cell_type": "markdown",
   "id": "8f4a9cbf",
   "metadata": {},
   "source": [
    "Data Visualization: context, effective visuals and storytelling\n",
    "Name: Rovin Castelino\n",
    "Registration Number: 240957001\n",
    "PC 46\n",
    "24/01/2025"
   ]
  },
  {
   "cell_type": "markdown",
   "id": "1cbb5737",
   "metadata": {},
   "source": [
    "8.\tTabulate and visualize Cereals by display Shelf.\n",
    "9.\tHow does the sugar content vary across different brands?\n",
    "10.\tWhat is the average calories in cereals per manufacturer?\n",
    "11.\tWhat is the average nutritional content (calories, sugars, protein, fiber, etc.) across all cereals?\n",
    "12.\tWhat is the relationship between sugar and calories?\n",
    "13.\tHow does the sugar content compare in cereals with high vs. low ratings?\n",
    "14.\tDo cereals marketed as \"healthy\" (e.g., high fiber, low sugar) tend to have higher ratings?\n",
    "15.\tIs there a relationship between rating and display shelf?\n"
   ]
  },
  {
   "cell_type": "code",
   "execution_count": 2,
   "id": "4de317ad",
   "metadata": {},
   "outputs": [],
   "source": [
    "import pandas as pd\n",
    "import numpy as np\n",
    "cereals_df=pd.read_csv(\"examples/Cereals.csv\")"
   ]
  },
  {
   "cell_type": "markdown",
   "id": "45c1d3ac",
   "metadata": {},
   "source": [
    "1.\tHow many cereals(unique brands) are there in the dataset?"
   ]
  },
  {
   "cell_type": "code",
   "execution_count": 13,
   "id": "3b9e1c09",
   "metadata": {},
   "outputs": [
    {
     "name": "stdout",
     "output_type": "stream",
     "text": [
      "                      name mfr type  calories  protein  fat  sodium  fiber  \\\n",
      "0           100NaturalBran   Q    C       120        3    5      15    2.0   \n",
      "1                 All-Bran   K    C        70        4    1     260    9.0   \n",
      "2   All-BranwithExtraFiber   K    C        50        4    0     140   14.0   \n",
      "3            AlmondDelight   R    C       110        2    2     200    1.0   \n",
      "4    AppleCinnamonCheerios   G    C       110        2    2     180    1.5   \n",
      "..                     ...  ..  ...       ...      ...  ...     ...    ...   \n",
      "71                 Triples   G    C       110        2    1     250    0.0   \n",
      "72                    Trix   G    C       110        1    1     140    0.0   \n",
      "73               WheatChex   R    C       100        3    1     230    3.0   \n",
      "74                Wheaties   G    C       100        3    1     200    3.0   \n",
      "75       WheatiesHoneyGold   G    C       110        2    1     200    1.0   \n",
      "\n",
      "   carbo sugars potass  vitamins  shelf  weight  cups     rating  \n",
      "0      8      8    135         0      3     1.0  1.00  33.983679  \n",
      "1      7      5    320        25      3     1.0  0.33  59.425505  \n",
      "2      8      0    330        25      3     1.0  0.50  93.704912  \n",
      "3     14      8      ?        25      3     1.0  0.75  34.384843  \n",
      "4   10.5     10     70        25      1     1.0  0.75  29.509541  \n",
      "..   ...    ...    ...       ...    ...     ...   ...        ...  \n",
      "71    21      3     60        25      3     1.0  0.75  39.106174  \n",
      "72    13     12     25        25      2     1.0  1.00  27.753301  \n",
      "73    17      3    115        25      1     1.0  0.67  49.787445  \n",
      "74    17      3    110        25      1     1.0  1.00  51.592193  \n",
      "75    16      8     60        25      1     1.0  0.75  36.187559  \n",
      "\n",
      "[76 rows x 16 columns]\n"
     ]
    }
   ],
   "source": [
    "frame=pd.DataFrame(cereals_df)\n",
    "print(frame)"
   ]
  },
  {
   "cell_type": "code",
   "execution_count": 32,
   "id": "a17c1a7d",
   "metadata": {},
   "outputs": [
    {
     "data": {
      "text/plain": [
       "76"
      ]
     },
     "execution_count": 32,
     "metadata": {},
     "output_type": "execute_result"
    }
   ],
   "source": [
    "a=frame[\"name\"]\n",
    "a.count()"
   ]
  },
  {
   "cell_type": "markdown",
   "id": "02f5efed",
   "metadata": {},
   "source": [
    "2.\tHow many cereals are listed per manufacturer of the cereal?"
   ]
  },
  {
   "cell_type": "code",
   "execution_count": 34,
   "id": "480be3b5",
   "metadata": {},
   "outputs": [
    {
     "data": {
      "text/plain": [
       "K    23\n",
       "G    22\n",
       "P     9\n",
       "Q     8\n",
       "R     8\n",
       "N     5\n",
       "A     1\n",
       "Name: mfr, dtype: int64"
      ]
     },
     "execution_count": 34,
     "metadata": {},
     "output_type": "execute_result"
    }
   ],
   "source": [
    "b=frame[\"mfr\"]\n",
    "b.value_counts()"
   ]
  },
  {
   "cell_type": "markdown",
   "id": "c7732e15",
   "metadata": {},
   "source": [
    "3.\tHow many hot vs cold cereals?"
   ]
  },
  {
   "cell_type": "code",
   "execution_count": 35,
   "id": "f9005504",
   "metadata": {},
   "outputs": [
    {
     "data": {
      "text/plain": [
       "C    73\n",
       "H     3\n",
       "Name: type, dtype: int64"
      ]
     },
     "execution_count": 35,
     "metadata": {},
     "output_type": "execute_result"
    }
   ],
   "source": [
    "c=frame[\"type\"]\n",
    "c.value_counts()"
   ]
  },
  {
   "cell_type": "markdown",
   "id": "b1905156",
   "metadata": {},
   "source": [
    "4.\tWhich is the best and worst cereal?"
   ]
  },
  {
   "cell_type": "code",
   "execution_count": 30,
   "id": "c14d7e7b",
   "metadata": {},
   "outputs": [
    {
     "name": "stdout",
     "output_type": "stream",
     "text": [
      "Best cereal is  2    All-BranwithExtraFiber\n",
      "Name: name, dtype: object 2    93.704912\n",
      "Name: rating, dtype: float64\n"
     ]
    }
   ],
   "source": [
    "d=frame[frame[\"rating\"] == frame[\"rating\"].max()]\n",
    "print(\"Best cereal is \", d[\"name\"], d[\"rating\"])"
   ]
  },
  {
   "cell_type": "code",
   "execution_count": 31,
   "id": "35c1205c",
   "metadata": {},
   "outputs": [
    {
     "name": "stdout",
     "output_type": "stream",
     "text": [
      "Worst cereal is  9    CapnCrunch\n",
      "Name: name, dtype: object 9    18.042851\n",
      "Name: rating, dtype: float64\n"
     ]
    }
   ],
   "source": [
    "d=frame[frame[\"rating\"] == frame[\"rating\"].min()]\n",
    "print(\"Worst cereal is \", d[\"name\"], d[\"rating\"])"
   ]
  },
  {
   "cell_type": "markdown",
   "id": "cf078252",
   "metadata": {},
   "source": [
    "5.\tCompare the rating for hot vs cold cereals. Which do people prefer?"
   ]
  },
  {
   "cell_type": "code",
   "execution_count": 55,
   "id": "a33bd9ee",
   "metadata": {},
   "outputs": [
    {
     "name": "stdout",
     "output_type": "stream",
     "text": [
      "Rating for cold is  41.734838164383554\n",
      "Rating for hot is  56.73770833333334\n"
     ]
    }
   ],
   "source": [
    "e=frame[\"type\"]==\"C\"\n",
    "print(\"Rating for cold is \",np.mean(frame[e][\"rating\"]))\n",
    "e=frame[\"type\"]==\"H\"\n",
    "print(\"Rating for hot is \",np.mean(frame[e][\"rating\"]))"
   ]
  },
  {
   "cell_type": "markdown",
   "id": "5d7b6781",
   "metadata": {},
   "source": [
    "6.\tWhich cereals have the highest fiber and lowest sugar?"
   ]
  },
  {
   "cell_type": "code",
   "execution_count": 56,
   "id": "5c253cc8",
   "metadata": {},
   "outputs": [
    {
     "data": {
      "text/html": [
       "<div>\n",
       "<style scoped>\n",
       "    .dataframe tbody tr th:only-of-type {\n",
       "        vertical-align: middle;\n",
       "    }\n",
       "\n",
       "    .dataframe tbody tr th {\n",
       "        vertical-align: top;\n",
       "    }\n",
       "\n",
       "    .dataframe thead th {\n",
       "        text-align: right;\n",
       "    }\n",
       "</style>\n",
       "<table border=\"1\" class=\"dataframe\">\n",
       "  <thead>\n",
       "    <tr style=\"text-align: right;\">\n",
       "      <th></th>\n",
       "      <th>name</th>\n",
       "      <th>mfr</th>\n",
       "      <th>type</th>\n",
       "      <th>calories</th>\n",
       "      <th>protein</th>\n",
       "      <th>fat</th>\n",
       "      <th>sodium</th>\n",
       "      <th>fiber</th>\n",
       "      <th>carbo</th>\n",
       "      <th>sugars</th>\n",
       "      <th>potass</th>\n",
       "      <th>vitamins</th>\n",
       "      <th>shelf</th>\n",
       "      <th>weight</th>\n",
       "      <th>cups</th>\n",
       "      <th>rating</th>\n",
       "    </tr>\n",
       "  </thead>\n",
       "  <tbody>\n",
       "    <tr>\n",
       "      <th>2</th>\n",
       "      <td>All-BranwithExtraFiber</td>\n",
       "      <td>K</td>\n",
       "      <td>C</td>\n",
       "      <td>50</td>\n",
       "      <td>4</td>\n",
       "      <td>0</td>\n",
       "      <td>140</td>\n",
       "      <td>14.0</td>\n",
       "      <td>8</td>\n",
       "      <td>0</td>\n",
       "      <td>330</td>\n",
       "      <td>25</td>\n",
       "      <td>3</td>\n",
       "      <td>1.0</td>\n",
       "      <td>0.5</td>\n",
       "      <td>93.704912</td>\n",
       "    </tr>\n",
       "  </tbody>\n",
       "</table>\n",
       "</div>"
      ],
      "text/plain": [
       "                     name mfr type  calories  protein  fat  sodium  fiber  \\\n",
       "2  All-BranwithExtraFiber   K    C        50        4    0     140   14.0   \n",
       "\n",
       "  carbo sugars potass  vitamins  shelf  weight  cups     rating  \n",
       "2     8      0    330        25      3     1.0   0.5  93.704912  "
      ]
     },
     "execution_count": 56,
     "metadata": {},
     "output_type": "execute_result"
    }
   ],
   "source": [
    "frame.loc[(frame[\"fiber\"] == frame[\"fiber\"].max()) & (frame[\"sugars\"] == frame[\"sugars\"].min())]"
   ]
  },
  {
   "cell_type": "markdown",
   "id": "67cd6301",
   "metadata": {},
   "source": [
    "7.\tWhich Cereals that have more than 3 grams of protein?"
   ]
  },
  {
   "cell_type": "code",
   "execution_count": null,
   "id": "bf5c1650",
   "metadata": {},
   "outputs": [],
   "source": [
    "f="
   ]
  }
 ],
 "metadata": {
  "kernelspec": {
   "display_name": "Python 3 (ipykernel)",
   "language": "python",
   "name": "python3"
  },
  "language_info": {
   "codemirror_mode": {
    "name": "ipython",
    "version": 3
   },
   "file_extension": ".py",
   "mimetype": "text/x-python",
   "name": "python",
   "nbconvert_exporter": "python",
   "pygments_lexer": "ipython3",
   "version": "3.9.13"
  }
 },
 "nbformat": 4,
 "nbformat_minor": 5
}
