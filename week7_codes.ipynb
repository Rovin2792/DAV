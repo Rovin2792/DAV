{
 "cells": [
  {
   "cell_type": "markdown",
   "id": "9c41c003",
   "metadata": {},
   "source": [
    "Demo 7: Plotting and Visualization using Matplotlib & Seaborn Exercise\n",
    "Name: Rovin Castelino\n",
    "Registration Number: 240957001 \n",
    "PC 46\n",
    "21/2/25"
   ]
  },
  {
   "cell_type": "markdown",
   "id": "873e6f5e",
   "metadata": {},
   "source": [
    "For the IPL dataset, answer the specified questions with \n",
    "summarization and effective visuals using Matplotlib & Seaborn \n",
    "libraries "
   ]
  },
  {
   "cell_type": "code",
   "execution_count": 1,
   "id": "14d7e603",
   "metadata": {},
   "outputs": [],
   "source": [
    "import numpy as np\n",
    "import pandas as pd\n",
    "import matplotlib.pyplot as plt\n",
    "import seaborn as sns"
   ]
  },
  {
   "cell_type": "code",
   "execution_count": 3,
   "id": "d00d6476",
   "metadata": {},
   "outputs": [],
   "source": [
    "df=pd.read_csv('examples/matches.csv')"
   ]
  },
  {
   "cell_type": "code",
   "execution_count": 4,
   "id": "a280d712",
   "metadata": {},
   "outputs": [
    {
     "data": {
      "text/html": [
       "<div>\n",
       "<style scoped>\n",
       "    .dataframe tbody tr th:only-of-type {\n",
       "        vertical-align: middle;\n",
       "    }\n",
       "\n",
       "    .dataframe tbody tr th {\n",
       "        vertical-align: top;\n",
       "    }\n",
       "\n",
       "    .dataframe thead th {\n",
       "        text-align: right;\n",
       "    }\n",
       "</style>\n",
       "<table border=\"1\" class=\"dataframe\">\n",
       "  <thead>\n",
       "    <tr style=\"text-align: right;\">\n",
       "      <th></th>\n",
       "      <th>id</th>\n",
       "      <th>season</th>\n",
       "      <th>city</th>\n",
       "      <th>date</th>\n",
       "      <th>team1</th>\n",
       "      <th>team2</th>\n",
       "      <th>toss_winner</th>\n",
       "      <th>toss_decision</th>\n",
       "      <th>result</th>\n",
       "      <th>dl_applied</th>\n",
       "      <th>winner</th>\n",
       "      <th>win_by_runs</th>\n",
       "      <th>win_by_wickets</th>\n",
       "      <th>player_of_match</th>\n",
       "      <th>venue</th>\n",
       "      <th>umpire1</th>\n",
       "      <th>umpire2</th>\n",
       "      <th>umpire3</th>\n",
       "    </tr>\n",
       "  </thead>\n",
       "  <tbody>\n",
       "    <tr>\n",
       "      <th>0</th>\n",
       "      <td>1</td>\n",
       "      <td>2017</td>\n",
       "      <td>Hyderabad</td>\n",
       "      <td>2017-04-05</td>\n",
       "      <td>Sunrisers Hyderabad</td>\n",
       "      <td>Royal Challengers Bangalore</td>\n",
       "      <td>Royal Challengers Bangalore</td>\n",
       "      <td>field</td>\n",
       "      <td>normal</td>\n",
       "      <td>0</td>\n",
       "      <td>Sunrisers Hyderabad</td>\n",
       "      <td>35</td>\n",
       "      <td>0</td>\n",
       "      <td>Yuvraj Singh</td>\n",
       "      <td>Rajiv Gandhi International Stadium, Uppal</td>\n",
       "      <td>AY Dandekar</td>\n",
       "      <td>NJ Llong</td>\n",
       "      <td>NaN</td>\n",
       "    </tr>\n",
       "    <tr>\n",
       "      <th>1</th>\n",
       "      <td>2</td>\n",
       "      <td>2017</td>\n",
       "      <td>Pune</td>\n",
       "      <td>2017-04-06</td>\n",
       "      <td>Mumbai Indians</td>\n",
       "      <td>Rising Pune Supergiant</td>\n",
       "      <td>Rising Pune Supergiant</td>\n",
       "      <td>field</td>\n",
       "      <td>normal</td>\n",
       "      <td>0</td>\n",
       "      <td>Rising Pune Supergiant</td>\n",
       "      <td>0</td>\n",
       "      <td>7</td>\n",
       "      <td>SPD Smith</td>\n",
       "      <td>Maharashtra Cricket Association Stadium</td>\n",
       "      <td>A Nand Kishore</td>\n",
       "      <td>S Ravi</td>\n",
       "      <td>NaN</td>\n",
       "    </tr>\n",
       "    <tr>\n",
       "      <th>2</th>\n",
       "      <td>3</td>\n",
       "      <td>2017</td>\n",
       "      <td>Rajkot</td>\n",
       "      <td>2017-04-07</td>\n",
       "      <td>Gujarat Lions</td>\n",
       "      <td>Kolkata Knight Riders</td>\n",
       "      <td>Kolkata Knight Riders</td>\n",
       "      <td>field</td>\n",
       "      <td>normal</td>\n",
       "      <td>0</td>\n",
       "      <td>Kolkata Knight Riders</td>\n",
       "      <td>0</td>\n",
       "      <td>10</td>\n",
       "      <td>CA Lynn</td>\n",
       "      <td>Saurashtra Cricket Association Stadium</td>\n",
       "      <td>Nitin Menon</td>\n",
       "      <td>CK Nandan</td>\n",
       "      <td>NaN</td>\n",
       "    </tr>\n",
       "    <tr>\n",
       "      <th>3</th>\n",
       "      <td>4</td>\n",
       "      <td>2017</td>\n",
       "      <td>Indore</td>\n",
       "      <td>2017-04-08</td>\n",
       "      <td>Rising Pune Supergiant</td>\n",
       "      <td>Kings XI Punjab</td>\n",
       "      <td>Kings XI Punjab</td>\n",
       "      <td>field</td>\n",
       "      <td>normal</td>\n",
       "      <td>0</td>\n",
       "      <td>Kings XI Punjab</td>\n",
       "      <td>0</td>\n",
       "      <td>6</td>\n",
       "      <td>GJ Maxwell</td>\n",
       "      <td>Holkar Cricket Stadium</td>\n",
       "      <td>AK Chaudhary</td>\n",
       "      <td>C Shamshuddin</td>\n",
       "      <td>NaN</td>\n",
       "    </tr>\n",
       "    <tr>\n",
       "      <th>4</th>\n",
       "      <td>5</td>\n",
       "      <td>2017</td>\n",
       "      <td>Bangalore</td>\n",
       "      <td>2017-04-08</td>\n",
       "      <td>Royal Challengers Bangalore</td>\n",
       "      <td>Delhi Daredevils</td>\n",
       "      <td>Royal Challengers Bangalore</td>\n",
       "      <td>bat</td>\n",
       "      <td>normal</td>\n",
       "      <td>0</td>\n",
       "      <td>Royal Challengers Bangalore</td>\n",
       "      <td>15</td>\n",
       "      <td>0</td>\n",
       "      <td>KM Jadhav</td>\n",
       "      <td>M Chinnaswamy Stadium</td>\n",
       "      <td>NaN</td>\n",
       "      <td>NaN</td>\n",
       "      <td>NaN</td>\n",
       "    </tr>\n",
       "    <tr>\n",
       "      <th>...</th>\n",
       "      <td>...</td>\n",
       "      <td>...</td>\n",
       "      <td>...</td>\n",
       "      <td>...</td>\n",
       "      <td>...</td>\n",
       "      <td>...</td>\n",
       "      <td>...</td>\n",
       "      <td>...</td>\n",
       "      <td>...</td>\n",
       "      <td>...</td>\n",
       "      <td>...</td>\n",
       "      <td>...</td>\n",
       "      <td>...</td>\n",
       "      <td>...</td>\n",
       "      <td>...</td>\n",
       "      <td>...</td>\n",
       "      <td>...</td>\n",
       "      <td>...</td>\n",
       "    </tr>\n",
       "    <tr>\n",
       "      <th>631</th>\n",
       "      <td>632</td>\n",
       "      <td>2016</td>\n",
       "      <td>Raipur</td>\n",
       "      <td>2016-05-22</td>\n",
       "      <td>Delhi Daredevils</td>\n",
       "      <td>Royal Challengers Bangalore</td>\n",
       "      <td>Royal Challengers Bangalore</td>\n",
       "      <td>field</td>\n",
       "      <td>normal</td>\n",
       "      <td>0</td>\n",
       "      <td>Royal Challengers Bangalore</td>\n",
       "      <td>0</td>\n",
       "      <td>6</td>\n",
       "      <td>V Kohli</td>\n",
       "      <td>Shaheed Veer Narayan Singh International Stadium</td>\n",
       "      <td>A Nand Kishore</td>\n",
       "      <td>BNJ Oxenford</td>\n",
       "      <td>NaN</td>\n",
       "    </tr>\n",
       "    <tr>\n",
       "      <th>632</th>\n",
       "      <td>633</td>\n",
       "      <td>2016</td>\n",
       "      <td>Bangalore</td>\n",
       "      <td>2016-05-24</td>\n",
       "      <td>Gujarat Lions</td>\n",
       "      <td>Royal Challengers Bangalore</td>\n",
       "      <td>Royal Challengers Bangalore</td>\n",
       "      <td>field</td>\n",
       "      <td>normal</td>\n",
       "      <td>0</td>\n",
       "      <td>Royal Challengers Bangalore</td>\n",
       "      <td>0</td>\n",
       "      <td>4</td>\n",
       "      <td>AB de Villiers</td>\n",
       "      <td>M Chinnaswamy Stadium</td>\n",
       "      <td>AK Chaudhary</td>\n",
       "      <td>HDPK Dharmasena</td>\n",
       "      <td>NaN</td>\n",
       "    </tr>\n",
       "    <tr>\n",
       "      <th>633</th>\n",
       "      <td>634</td>\n",
       "      <td>2016</td>\n",
       "      <td>Delhi</td>\n",
       "      <td>2016-05-25</td>\n",
       "      <td>Sunrisers Hyderabad</td>\n",
       "      <td>Kolkata Knight Riders</td>\n",
       "      <td>Kolkata Knight Riders</td>\n",
       "      <td>field</td>\n",
       "      <td>normal</td>\n",
       "      <td>0</td>\n",
       "      <td>Sunrisers Hyderabad</td>\n",
       "      <td>22</td>\n",
       "      <td>0</td>\n",
       "      <td>MC Henriques</td>\n",
       "      <td>Feroz Shah Kotla</td>\n",
       "      <td>M Erasmus</td>\n",
       "      <td>C Shamshuddin</td>\n",
       "      <td>NaN</td>\n",
       "    </tr>\n",
       "    <tr>\n",
       "      <th>634</th>\n",
       "      <td>635</td>\n",
       "      <td>2016</td>\n",
       "      <td>Delhi</td>\n",
       "      <td>2016-05-27</td>\n",
       "      <td>Gujarat Lions</td>\n",
       "      <td>Sunrisers Hyderabad</td>\n",
       "      <td>Sunrisers Hyderabad</td>\n",
       "      <td>field</td>\n",
       "      <td>normal</td>\n",
       "      <td>0</td>\n",
       "      <td>Sunrisers Hyderabad</td>\n",
       "      <td>0</td>\n",
       "      <td>4</td>\n",
       "      <td>DA Warner</td>\n",
       "      <td>Feroz Shah Kotla</td>\n",
       "      <td>M Erasmus</td>\n",
       "      <td>CK Nandan</td>\n",
       "      <td>NaN</td>\n",
       "    </tr>\n",
       "    <tr>\n",
       "      <th>635</th>\n",
       "      <td>636</td>\n",
       "      <td>2016</td>\n",
       "      <td>Bangalore</td>\n",
       "      <td>2016-05-29</td>\n",
       "      <td>Sunrisers Hyderabad</td>\n",
       "      <td>Royal Challengers Bangalore</td>\n",
       "      <td>Sunrisers Hyderabad</td>\n",
       "      <td>bat</td>\n",
       "      <td>normal</td>\n",
       "      <td>0</td>\n",
       "      <td>Sunrisers Hyderabad</td>\n",
       "      <td>8</td>\n",
       "      <td>0</td>\n",
       "      <td>BCJ Cutting</td>\n",
       "      <td>M Chinnaswamy Stadium</td>\n",
       "      <td>HDPK Dharmasena</td>\n",
       "      <td>BNJ Oxenford</td>\n",
       "      <td>NaN</td>\n",
       "    </tr>\n",
       "  </tbody>\n",
       "</table>\n",
       "<p>636 rows × 18 columns</p>\n",
       "</div>"
      ],
      "text/plain": [
       "      id  season       city        date                        team1  \\\n",
       "0      1    2017  Hyderabad  2017-04-05          Sunrisers Hyderabad   \n",
       "1      2    2017       Pune  2017-04-06               Mumbai Indians   \n",
       "2      3    2017     Rajkot  2017-04-07                Gujarat Lions   \n",
       "3      4    2017     Indore  2017-04-08       Rising Pune Supergiant   \n",
       "4      5    2017  Bangalore  2017-04-08  Royal Challengers Bangalore   \n",
       "..   ...     ...        ...         ...                          ...   \n",
       "631  632    2016     Raipur  2016-05-22             Delhi Daredevils   \n",
       "632  633    2016  Bangalore  2016-05-24                Gujarat Lions   \n",
       "633  634    2016      Delhi  2016-05-25          Sunrisers Hyderabad   \n",
       "634  635    2016      Delhi  2016-05-27                Gujarat Lions   \n",
       "635  636    2016  Bangalore  2016-05-29          Sunrisers Hyderabad   \n",
       "\n",
       "                           team2                  toss_winner toss_decision  \\\n",
       "0    Royal Challengers Bangalore  Royal Challengers Bangalore         field   \n",
       "1         Rising Pune Supergiant       Rising Pune Supergiant         field   \n",
       "2          Kolkata Knight Riders        Kolkata Knight Riders         field   \n",
       "3                Kings XI Punjab              Kings XI Punjab         field   \n",
       "4               Delhi Daredevils  Royal Challengers Bangalore           bat   \n",
       "..                           ...                          ...           ...   \n",
       "631  Royal Challengers Bangalore  Royal Challengers Bangalore         field   \n",
       "632  Royal Challengers Bangalore  Royal Challengers Bangalore         field   \n",
       "633        Kolkata Knight Riders        Kolkata Knight Riders         field   \n",
       "634          Sunrisers Hyderabad          Sunrisers Hyderabad         field   \n",
       "635  Royal Challengers Bangalore          Sunrisers Hyderabad           bat   \n",
       "\n",
       "     result  dl_applied                       winner  win_by_runs  \\\n",
       "0    normal           0          Sunrisers Hyderabad           35   \n",
       "1    normal           0       Rising Pune Supergiant            0   \n",
       "2    normal           0        Kolkata Knight Riders            0   \n",
       "3    normal           0              Kings XI Punjab            0   \n",
       "4    normal           0  Royal Challengers Bangalore           15   \n",
       "..      ...         ...                          ...          ...   \n",
       "631  normal           0  Royal Challengers Bangalore            0   \n",
       "632  normal           0  Royal Challengers Bangalore            0   \n",
       "633  normal           0          Sunrisers Hyderabad           22   \n",
       "634  normal           0          Sunrisers Hyderabad            0   \n",
       "635  normal           0          Sunrisers Hyderabad            8   \n",
       "\n",
       "     win_by_wickets player_of_match  \\\n",
       "0                 0    Yuvraj Singh   \n",
       "1                 7       SPD Smith   \n",
       "2                10         CA Lynn   \n",
       "3                 6      GJ Maxwell   \n",
       "4                 0       KM Jadhav   \n",
       "..              ...             ...   \n",
       "631               6         V Kohli   \n",
       "632               4  AB de Villiers   \n",
       "633               0    MC Henriques   \n",
       "634               4       DA Warner   \n",
       "635               0     BCJ Cutting   \n",
       "\n",
       "                                                venue          umpire1  \\\n",
       "0           Rajiv Gandhi International Stadium, Uppal      AY Dandekar   \n",
       "1             Maharashtra Cricket Association Stadium   A Nand Kishore   \n",
       "2              Saurashtra Cricket Association Stadium      Nitin Menon   \n",
       "3                              Holkar Cricket Stadium     AK Chaudhary   \n",
       "4                               M Chinnaswamy Stadium              NaN   \n",
       "..                                                ...              ...   \n",
       "631  Shaheed Veer Narayan Singh International Stadium   A Nand Kishore   \n",
       "632                             M Chinnaswamy Stadium     AK Chaudhary   \n",
       "633                                  Feroz Shah Kotla        M Erasmus   \n",
       "634                                  Feroz Shah Kotla        M Erasmus   \n",
       "635                             M Chinnaswamy Stadium  HDPK Dharmasena   \n",
       "\n",
       "             umpire2  umpire3  \n",
       "0           NJ Llong      NaN  \n",
       "1             S Ravi      NaN  \n",
       "2          CK Nandan      NaN  \n",
       "3      C Shamshuddin      NaN  \n",
       "4                NaN      NaN  \n",
       "..               ...      ...  \n",
       "631     BNJ Oxenford      NaN  \n",
       "632  HDPK Dharmasena      NaN  \n",
       "633    C Shamshuddin      NaN  \n",
       "634        CK Nandan      NaN  \n",
       "635     BNJ Oxenford      NaN  \n",
       "\n",
       "[636 rows x 18 columns]"
      ]
     },
     "execution_count": 4,
     "metadata": {},
     "output_type": "execute_result"
    }
   ],
   "source": [
    "df"
   ]
  },
  {
   "cell_type": "markdown",
   "id": "be39cdd1",
   "metadata": {},
   "source": [
    "1. Find the names of teams that are part of IPL. "
   ]
  },
  {
   "cell_type": "code",
   "execution_count": 66,
   "id": "a590db66",
   "metadata": {},
   "outputs": [
    {
     "data": {
      "text/plain": [
       "Mumbai Indians                 82\n",
       "Kings XI Punjab                77\n",
       "Chennai Super Kings            77\n",
       "Royal Challengers Bangalore    70\n",
       "Kolkata Knight Riders          68\n",
       "Delhi Daredevils               63\n",
       "Rajasthan Royals               54\n",
       "Sunrisers Hyderabad            46\n",
       "Deccan Chargers                43\n",
       "Pune Warriors                  20\n",
       "Gujarat Lions                  14\n",
       "Rising Pune Supergiant          8\n",
       "Kochi Tuskers Kerala            7\n",
       "Rising Pune Supergiants         7\n",
       "Name: team1, dtype: int64"
      ]
     },
     "execution_count": 66,
     "metadata": {},
     "output_type": "execute_result"
    }
   ],
   "source": [
    "a=df[\"team1\"]\n",
    "a.value_counts()"
   ]
  },
  {
   "cell_type": "markdown",
   "id": "f586537b",
   "metadata": {},
   "source": [
    "2. Visualize the total number of matches won by each team. "
   ]
  },
  {
   "cell_type": "code",
   "execution_count": 79,
   "id": "d0fe4636",
   "metadata": {
    "scrolled": true
   },
   "outputs": [
    {
     "data": {
      "text/plain": [
       "<AxesSubplot:>"
      ]
     },
     "execution_count": 79,
     "metadata": {},
     "output_type": "execute_result"
    },
    {
     "data": {
      "image/png": "[encoded data removed]",
      "text/plain": [
       "<Figure size 640x480 with 1 Axes>"
      ]
     },
     "metadata": {},
     "output_type": "display_data"
    }
   ],
   "source": [
    "a=df[\"winner\"].value_counts()\n",
    "\n",
    "sns.barplot(y=a.index,x=a.values,orient = 'h')\n",
    "#a.plot(kind='bar', color='blue')"
   ]
  },
  {
   "cell_type": "markdown",
   "id": "b7e5c7c8",
   "metadata": {},
   "source": [
    "3. List the names of umpires who have served as third umpires and the number of matches. "
   ]
  },
  {
   "cell_type": "code",
   "execution_count": 14,
   "id": "ba1815ef",
   "metadata": {},
   "outputs": [
    {
     "data": {
      "text/plain": [
       "SJA Taufel         54\n",
       "C Shamshuddin      50\n",
       "S Ravi             49\n",
       "RJ Tucker          38\n",
       "CK Nandan          36\n",
       "RB Tiffin          30\n",
       "VA Kulkarni        28\n",
       "SK Tarapore        26\n",
       "BNJ Oxenford       25\n",
       "AM Saheba          23\n",
       "M Erasmus          22\n",
       "RE Koertzen        21\n",
       "DJ Harper          18\n",
       "AK Chaudhary       15\n",
       "HDPK Dharmasena    14\n",
       "NJ Llong           13\n",
       "K Srinath          13\n",
       "SL Shastri         13\n",
       "K Hariharan        11\n",
       "S Asnani           11\n",
       "CB Gaffaney        10\n",
       "VK Sharma           9\n",
       "PR Reiffel          8\n",
       "RK Illingworth      8\n",
       "BR Doctrove         8\n",
       "Nitin Menon         8\n",
       "IL Howell           7\n",
       "I Shivram           6\n",
       "SS Hazare           6\n",
       "AL Hill             6\n",
       "GA Pratapkumar      6\n",
       "PG Pathak           6\n",
       "TH Wijewardene      5\n",
       "A Nand Kishore      5\n",
       "S Das               5\n",
       "BG Jerling          4\n",
       "AV Jayaprakash      4\n",
       "K Srinivasan        3\n",
       "A Deshmukh          3\n",
       "SD Ranade           2\n",
       "MR Benson           2\n",
       "JD Cloete           1\n",
       "Subroto Das         1\n",
       "SJ Davis            1\n",
       "SD Fry              1\n",
       "Name: umpire2, dtype: int64"
      ]
     },
     "execution_count": 14,
     "metadata": {},
     "output_type": "execute_result"
    }
   ],
   "source": [
    "a=df[\"umpire2\"]\n",
    "a.value_counts()"
   ]
  },
  {
   "cell_type": "markdown",
   "id": "35bc1253",
   "metadata": {},
   "source": [
    "4. Visualize how many matches were held in each venue."
   ]
  },
  {
   "cell_type": "code",
   "execution_count": 12,
   "id": "baae10ea",
   "metadata": {},
   "outputs": [
    {
     "data": {
      "text/plain": [
       "M Chinnaswamy Stadium                                   66\n",
       "Eden Gardens                                            61\n",
       "Feroz Shah Kotla                                        60\n",
       "Wankhede Stadium                                        57\n",
       "Rajiv Gandhi International Stadium, Uppal               49\n",
       "MA Chidambaram Stadium, Chepauk                         48\n",
       "Punjab Cricket Association Stadium, Mohali              35\n",
       "Sawai Mansingh Stadium                                  33\n",
       "Dr DY Patil Sports Academy                              17\n",
       "Subrata Roy Sahara Stadium                              17\n",
       "Maharashtra Cricket Association Stadium                 15\n",
       "Kingsmead                                               15\n",
       "Sardar Patel Stadium, Motera                            12\n",
       "SuperSport Park                                         12\n",
       "Punjab Cricket Association IS Bindra Stadium, Mohali    11\n",
       "Dr. Y.S. Rajasekhara Reddy ACA-VDCA Cricket Stadium     11\n",
       "Brabourne Stadium                                       11\n",
       "Saurashtra Cricket Association Stadium                  10\n",
       "Himachal Pradesh Cricket Association Stadium             9\n",
       "New Wanderers Stadium                                    8\n",
       "Newlands                                                 7\n",
       "St George's Park                                         7\n",
       "Sheikh Zayed Stadium                                     7\n",
       "JSCA International Stadium Complex                       7\n",
       "Barabati Stadium                                         7\n",
       "Dubai International Cricket Stadium                      7\n",
       "Shaheed Veer Narayan Singh International Stadium         6\n",
       "Sharjah Cricket Stadium                                  6\n",
       "Holkar Cricket Stadium                                   5\n",
       "Nehru Stadium                                            5\n",
       "Green Park                                               4\n",
       "Vidarbha Cricket Association Stadium, Jamtha             3\n",
       "De Beers Diamond Oval                                    3\n",
       "Buffalo Park                                             3\n",
       "OUTsurance Oval                                          2\n",
       "Name: venue, dtype: int64"
      ]
     },
     "execution_count": 12,
     "metadata": {},
     "output_type": "execute_result"
    }
   ],
   "source": [
    "a=df[\"venue\"]\n",
    "a.value_counts()"
   ]
  },
  {
   "cell_type": "markdown",
   "id": "9d92087c",
   "metadata": {},
   "source": [
    "5. Visualize the top 10 players identified as the player of the match for the most significant number of matches. "
   ]
  },
  {
   "cell_type": "code",
   "execution_count": 18,
   "id": "0fad0594",
   "metadata": {},
   "outputs": [
    {
     "data": {
      "text/plain": [
       "CH Gayle          18\n",
       "YK Pathan         16\n",
       "DA Warner         15\n",
       "AB de Villiers    15\n",
       "RG Sharma         14\n",
       "SK Raina          14\n",
       "MS Dhoni          13\n",
       "G Gambhir         13\n",
       "AM Rahane         12\n",
       "MEK Hussey        12\n",
       "Name: player_of_match, dtype: int64"
      ]
     },
     "execution_count": 18,
     "metadata": {},
     "output_type": "execute_result"
    }
   ],
   "source": [
    "a=df[\"player_of_match\"].value_counts()\n",
    "a[:10]"
   ]
  },
  {
   "cell_type": "markdown",
   "id": "a24df888",
   "metadata": {},
   "source": [
    "6. Visualize the bottom 10 venues where the least number of matches were played. "
   ]
  },
  {
   "cell_type": "code",
   "execution_count": 24,
   "id": "f2770bff",
   "metadata": {},
   "outputs": [
    {
     "data": {
      "text/plain": [
       "OUTsurance Oval                                     2\n",
       "Buffalo Park                                        3\n",
       "De Beers Diamond Oval                               3\n",
       "Vidarbha Cricket Association Stadium, Jamtha        3\n",
       "Green Park                                          4\n",
       "Nehru Stadium                                       5\n",
       "Holkar Cricket Stadium                              5\n",
       "Sharjah Cricket Stadium                             6\n",
       "Shaheed Veer Narayan Singh International Stadium    6\n",
       "Dubai International Cricket Stadium                 7\n",
       "Name: venue, dtype: int64"
      ]
     },
     "execution_count": 24,
     "metadata": {},
     "output_type": "execute_result"
    }
   ],
   "source": [
    "a=df[\"venue\"].value_counts()\n",
    "a[-1:-11:-1]"
   ]
  },
  {
   "cell_type": "markdown",
   "id": "331923b4",
   "metadata": {},
   "source": [
    "7. Visualize the number of wins of each team for the venue of ‘MA Chidambaram Stadium, Chepauk’ "
   ]
  },
  {
   "cell_type": "code",
   "execution_count": 28,
   "id": "cd40accb",
   "metadata": {},
   "outputs": [
    {
     "data": {
      "text/plain": [
       "Chennai Super Kings            33\n",
       "Mumbai Indians                  3\n",
       "Delhi Daredevils                2\n",
       "Deccan Chargers                 2\n",
       "Royal Challengers Bangalore     2\n",
       "Kings XI Punjab                 2\n",
       "Kolkata Knight Riders           2\n",
       "Rajasthan Royals                1\n",
       "Pune Warriors                   1\n",
       "Name: winner, dtype: int64"
      ]
     },
     "execution_count": 28,
     "metadata": {},
     "output_type": "execute_result"
    }
   ],
   "source": [
    "ven = df['venue']==\"MA Chidambaram Stadium, Chepauk\"\n",
    "win=df[\"winner\"][ven]\n",
    "win.value_counts()"
   ]
  },
  {
   "cell_type": "markdown",
   "id": "2d28f94f",
   "metadata": {},
   "source": [
    "8. Find and list the venues where the match resulted in a tie. "
   ]
  },
  {
   "cell_type": "code",
   "execution_count": 29,
   "id": "8c2cdccf",
   "metadata": {},
   "outputs": [
    {
     "data": {
      "text/plain": [
       "Saurashtra Cricket Association Stadium       1\n",
       "Newlands                                     1\n",
       "MA Chidambaram Stadium, Chepauk              1\n",
       "Rajiv Gandhi International Stadium, Uppal    1\n",
       "M Chinnaswamy Stadium                        1\n",
       "Sheikh Zayed Stadium                         1\n",
       "Sardar Patel Stadium, Motera                 1\n",
       "Name: venue, dtype: int64"
      ]
     },
     "execution_count": 29,
     "metadata": {},
     "output_type": "execute_result"
    }
   ],
   "source": [
    "win=df[\"result\"]==\"tie\"\n",
    "ven = df['venue'][win]\n",
    "ven.value_counts()"
   ]
  },
  {
   "cell_type": "markdown",
   "id": "8a39391e",
   "metadata": {},
   "source": [
    "9. List and visualize the best teams(top 5), season-wise.  "
   ]
  },
  {
   "cell_type": "code",
   "execution_count": 58,
   "id": "349c23d1",
   "metadata": {},
   "outputs": [
    {
     "name": "stdout",
     "output_type": "stream",
     "text": [
      "Season:  2017\n",
      "Mumbai Indians            12\n",
      "Rising Pune Supergiant    10\n",
      "Kolkata Knight Riders      9\n",
      "Sunrisers Hyderabad        8\n",
      "Kings XI Punjab            7\n",
      "Name: winner, dtype: int64\n",
      "\n",
      "Season:  2008\n",
      "Rajasthan Royals       13\n",
      "Kings XI Punjab        10\n",
      "Chennai Super Kings     9\n",
      "Delhi Daredevils        7\n",
      "Mumbai Indians          7\n",
      "Name: winner, dtype: int64\n",
      "\n",
      "Season:  2009\n",
      "Delhi Daredevils               10\n",
      "Royal Challengers Bangalore     9\n",
      "Deccan Chargers                 9\n",
      "Chennai Super Kings             8\n",
      "Kings XI Punjab                 7\n",
      "Name: winner, dtype: int64\n",
      "\n",
      "Season:  2010\n",
      "Mumbai Indians                 11\n",
      "Chennai Super Kings             9\n",
      "Deccan Chargers                 8\n",
      "Royal Challengers Bangalore     8\n",
      "Kolkata Knight Riders           7\n",
      "Name: winner, dtype: int64\n",
      "\n",
      "Season:  2011\n",
      "Chennai Super Kings            11\n",
      "Royal Challengers Bangalore    10\n",
      "Mumbai Indians                 10\n",
      "Kolkata Knight Riders           8\n",
      "Kings XI Punjab                 7\n",
      "Name: winner, dtype: int64\n",
      "\n",
      "Season:  2012\n",
      "Kolkata Knight Riders          12\n",
      "Delhi Daredevils               11\n",
      "Mumbai Indians                 10\n",
      "Chennai Super Kings            10\n",
      "Royal Challengers Bangalore     8\n",
      "Name: winner, dtype: int64\n",
      "\n",
      "Season:  2013\n",
      "Mumbai Indians                 13\n",
      "Chennai Super Kings            12\n",
      "Rajasthan Royals               11\n",
      "Sunrisers Hyderabad            10\n",
      "Royal Challengers Bangalore     9\n",
      "Name: winner, dtype: int64\n",
      "\n",
      "Season:  2014\n",
      "Kings XI Punjab          12\n",
      "Kolkata Knight Riders    11\n",
      "Chennai Super Kings      10\n",
      "Rajasthan Royals          7\n",
      "Mumbai Indians            7\n",
      "Name: winner, dtype: int64\n",
      "\n",
      "Season:  2015\n",
      "Chennai Super Kings            10\n",
      "Mumbai Indians                 10\n",
      "Royal Challengers Bangalore     8\n",
      "Kolkata Knight Riders           7\n",
      "Rajasthan Royals                7\n",
      "Name: winner, dtype: int64\n",
      "\n",
      "Season:  2016\n",
      "Sunrisers Hyderabad            11\n",
      "Gujarat Lions                   9\n",
      "Royal Challengers Bangalore     9\n",
      "Kolkata Knight Riders           8\n",
      "Mumbai Indians                  7\n",
      "Name: winner, dtype: int64\n",
      "\n"
     ]
    }
   ],
   "source": [
    "sea=df[\"season\"].unique()\n",
    "for i in sea:\n",
    "    win=df[df[\"season\"]==i][\"winner\"].value_counts().head(5)\n",
    "    print(\"Season: \", i)\n",
    "    print(win)\n",
    "    print()"
   ]
  },
  {
   "cell_type": "markdown",
   "id": "5be948ef",
   "metadata": {},
   "source": [
    "10. Analyse and visualize the relationship between winning the toss and winning the match. "
   ]
  },
  {
   "cell_type": "code",
   "execution_count": 67,
   "id": "821c6b88",
   "metadata": {},
   "outputs": [
    {
     "name": "stdout",
     "output_type": "stream",
     "text": [
      "No of teams that won the match and toss are:  325\n",
      "No of teams that won the match and lost the toss are:  311\n"
     ]
    }
   ],
   "source": [
    "win=0\n",
    "loss=0\n",
    "t=df[\"toss_winner\"]\n",
    "w=df[\"winner\"]\n",
    "for i in range(len(t)):\n",
    "    if t[i]==w[i]:\n",
    "        win+=1\n",
    "    else:\n",
    "        loss+=1\n",
    "print(\"No of teams that won the match and toss are: \",win)\n",
    "print(\"No of teams that won the match and lost the toss are: \",loss)"
   ]
  },
  {
   "cell_type": "code",
   "execution_count": null,
   "id": "3c5653df",
   "metadata": {},
   "outputs": [],
   "source": []
  }
 ],
 "metadata": {
  "kernelspec": {
   "display_name": "Python 3 (ipykernel)",
   "language": "python",
   "name": "python3"
  },
  "language_info": {
   "codemirror_mode": {
    "name": "ipython",
    "version": 3
   },
   "file_extension": ".py",
   "mimetype": "text/x-python",
   "name": "python",
   "nbconvert_exporter": "python",
   "pygments_lexer": "ipython3",
   "version": "3.9.13"
  }
 },
 "nbformat": 4,
 "nbformat_minor": 5
}
