{
 "cells": [
  {
   "cell_type": "markdown",
   "id": "62f0fe56-2d2d-457c-b004-818b7123b053",
   "metadata": {},
   "source": [
    "Python built-in Data structures, Functions, modules, packages \n",
    "Name: Rovin Castelino\n",
    "Registration Number: 240957001\n",
    "PC 46\n",
    "17/01/2025"
   ]
  },
  {
   "cell_type": "markdown",
   "id": "5a659645",
   "metadata": {},
   "source": [
    "1. Write a Python code block that inputs numbers into a list. Print the largest, smallest, the sum, and the average of the numbers. Count occurrences of a specific number in the list. "
   ]
  },
  {
   "cell_type": "code",
   "execution_count": 8,
   "id": "47d03d78",
   "metadata": {},
   "outputs": [
    {
     "name": "stdout",
     "output_type": "stream",
     "text": [
      "Maximum number is  5\n",
      "Minimum number is  1\n",
      "Sum is 15\n",
      "Average is 3.0\n",
      "{1: 1, 2: 1, 3: 1, 4: 1, 5: 1}\n"
     ]
    }
   ],
   "source": [
    "L=[]\n",
    "n=int(input(\"Enter numbers to enter: \"))\n",
    "for i in range(0,n):\n",
    "    a=int(input(\"Enter number: \"))\n",
    "    L.append(a)\n",
    "max=0\n",
    "min=L[0]\n",
    "sum=0\n",
    "D={}\n",
    "for i in L:\n",
    "    sum+=i\n",
    "    if i>max:\n",
    "        max=i\n",
    "    if i<min:\n",
    "        min-=i\n",
    "    if i in D:\n",
    "        D[i]+=1\n",
    "    else: D[i]=1\n",
    "avg=sum/n\n",
    "print(\"Maximum number is \", max)\n",
    "print(\"Minimum number is \", min)\n",
    "print(\"Sum is\", sum)\n",
    "print(\"Average is\", avg)\n",
    "print(D)"
   ]
  },
  {
   "cell_type": "markdown",
   "id": "15f0f447",
   "metadata": {},
   "source": [
    "2. Write a Python code block to create a tuple with five elements.Try to change one of the elements and handle the error that \n",
    "occurs. Print a message that explains why the error occurred. "
   ]
  },
  {
   "cell_type": "code",
   "execution_count": 9,
   "id": "7f4cb4da",
   "metadata": {},
   "outputs": [
    {
     "name": "stdout",
     "output_type": "stream",
     "text": [
      "(1, 2, 3, 4, 5)\n",
      "Tuple is immutable\n"
     ]
    }
   ],
   "source": [
    "L=[]\n",
    "for i in range(0,5):\n",
    "    a=int(input(\"Enter a number: \"))\n",
    "    L.append(a)\n",
    "T=tuple(L)\n",
    "print(T)\n",
    "b=int(input(\"Enter element you want to change: \"))\n",
    "c=int(input(\"Enter element you want to enter: \"))\n",
    "try: \n",
    "    T.insert(b,c)\n",
    "    print(T)\n",
    "except:\n",
    "    print(\"Tuple is immutable\")"
   ]
  },
  {
   "cell_type": "markdown",
   "id": "7e594a39",
   "metadata": {},
   "source": [
    "3. Write a Python code block to create a dictionary of cricket World Cup winners. Let the key be the year; the value is the country that won the World Cup that year. Print the name of the bestperforming country.  Display the unique list of countries that have won the World Cup. "
   ]
  },
  {
   "cell_type": "code",
   "execution_count": 11,
   "id": "30f44f23",
   "metadata": {
    "scrolled": true
   },
   "outputs": [
    {
     "name": "stdout",
     "output_type": "stream",
     "text": [
      "{2023: 'India', 2024: 'England'}\n",
      "{'India': 1, 'England': 1}\n",
      "India won 1 world cups\n"
     ]
    }
   ],
   "source": [
    "D={}\n",
    "n=int(input(\"Enter number of world cup winners to enter: \"))\n",
    "for i in range(0,n):\n",
    "    a=int(input(\"Enter year: \"))\n",
    "    b=input(\"Enter country: \")\n",
    "    D[a]=b\n",
    "print(D)\n",
    "best={}\n",
    "for i in D.values():\n",
    "    if i in best:\n",
    "        best[i]+=1\n",
    "    else: \n",
    "        best[i]=1\n",
    "print(best)\n",
    "high=0\n",
    "country=''\n",
    "for i in best.keys():\n",
    "    if int(best[i])>high:\n",
    "        high=best[i]\n",
    "        country+=i\n",
    "print(country,\"won\",high,\"world cups\")"
   ]
  },
  {
   "cell_type": "markdown",
   "id": "7ea428df",
   "metadata": {},
   "source": [
    "4. Write a Python code block that inputs a sentence from the user. Count the frequency of each word in the sentence and store the result in a dictionary. Prints the dictionary with words as keys and their frequencies as values. "
   ]
  },
  {
   "cell_type": "code",
   "execution_count": 12,
   "id": "ba82a4ad",
   "metadata": {},
   "outputs": [
    {
     "name": "stdout",
     "output_type": "stream",
     "text": [
      "{'banana': 1}\n"
     ]
    }
   ],
   "source": [
    "D={}\n",
    "a=input(\"Enter string:\")\n",
    "L=a.split(' ')\n",
    "for i in L:\n",
    "    if i in D:\n",
    "        D[i]+=1\n",
    "    else: \n",
    "        D[i]=1\n",
    "print(D)"
   ]
  },
  {
   "cell_type": "markdown",
   "id": "2d682870",
   "metadata": {},
   "source": [
    "5. Write a Python code block to input numbers into two sets. Perform union, intersection, and difference operations on the sets and print the results.  "
   ]
  },
  {
   "cell_type": "code",
   "execution_count": 13,
   "id": "069bd37c",
   "metadata": {},
   "outputs": [
    {
     "name": "stdout",
     "output_type": "stream",
     "text": [
      "{1, 2, 3, 4, 5}\n",
      "{3}\n",
      "{1, 2}\n"
     ]
    }
   ],
   "source": [
    "a=set()\n",
    "b=set()\n",
    "n=int(input(\"Enter total numbers to enter in set 1: \"))\n",
    "for i in range(0,n):\n",
    "    x=int(input())\n",
    "    a.add(x)\n",
    "n=int(input(\"Enter total numbers to enter in set 2: \"))\n",
    "for i in range(0,n):\n",
    "    x=int(input())\n",
    "    b.add(x)\n",
    "print (a | b)\n",
    "print (a & b)\n",
    "print(a - b)"
   ]
  },
  {
   "cell_type": "markdown",
   "id": "79cbdaa7",
   "metadata": {},
   "source": []
  }
 ],
 "metadata": {
  "kernelspec": {
   "display_name": ".venv",
   "language": "python",
   "name": "python3"
  },
  "language_info": {
   "codemirror_mode": {
    "name": "ipython",
    "version": 3
   },
   "file_extension": ".py",
   "mimetype": "text/x-python",
   "name": "python",
   "nbconvert_exporter": "python",
   "pygments_lexer": "ipython3",
   "version": "3.10.12"
  }
 },
 "nbformat": 4,
 "nbformat_minor": 5
}
