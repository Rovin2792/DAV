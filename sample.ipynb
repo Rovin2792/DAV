{
 "cells": [
  {
   "cell_type": "code",
   "execution_count": 1,
   "id": "d7344006",
   "metadata": {},
   "outputs": [],
   "source": [
    "# Data Visualization\n",
    "# Btech Mathematics and Computing\n",
    "# Week 1 Python Language Basics -Demonstration Code\n",
    "# Rovin Castelino\n",
    "# PC 46\n",
    "# 240957001 "
   ]
  },
  {
   "cell_type": "code",
   "execution_count": 2,
   "id": "18ad8f77",
   "metadata": {},
   "outputs": [
    {
     "name": "stdout",
     "output_type": "stream",
     "text": [
      "Hello World\n"
     ]
    }
   ],
   "source": [
    "print(\"Hello World\")"
   ]
  },
  {
   "cell_type": "code",
   "execution_count": 3,
   "id": "94fd0423",
   "metadata": {},
   "outputs": [
    {
     "name": "stdout",
     "output_type": "stream",
     "text": [
      "Sum of  2 + 3 = 5\n"
     ]
    }
   ],
   "source": [
    "# This adds 2 numbers a and b\n",
    "a=2\n",
    "b=3\n",
    "c=a+b\n",
    "print(\"Sum of \", a , \"+\", b , '=' , c)"
   ]
  },
  {
   "cell_type": "code",
   "execution_count": 4,
   "id": "b5a412c4",
   "metadata": {},
   "outputs": [
    {
     "name": "stdout",
     "output_type": "stream",
     "text": [
      "0.6666666666666666\n",
      "0\n"
     ]
    }
   ],
   "source": [
    "# Mathematical operations\n",
    "print(a/b)\n",
    "print(a//b)"
   ]
  },
  {
   "cell_type": "code",
   "execution_count": 5,
   "id": "291334fc",
   "metadata": {
    "scrolled": true
   },
   "outputs": [
    {
     "name": "stdout",
     "output_type": "stream",
     "text": [
      "0.34568\n"
     ]
    }
   ],
   "source": [
    "#Addition of float values\n",
    "Fa=0.345\n",
    "Fb=6.8e-4\n",
    "print(Fa+Fb)"
   ]
  },
  {
   "cell_type": "code",
   "execution_count": 6,
   "id": "496f6913",
   "metadata": {},
   "outputs": [
    {
     "name": "stdout",
     "output_type": "stream",
     "text": [
      "String that spans \n",
      "Multiple lines\n",
      "\n"
     ]
    },
    {
     "data": {
      "text/plain": [
       "2"
      ]
     },
     "execution_count": 6,
     "metadata": {},
     "output_type": "execute_result"
    }
   ],
   "source": [
    "#String operations\n",
    "STRa='This is my first python class'\n",
    "STRb=\"\"\"String that spans \n",
    "Multiple lines\n",
    "\"\"\"\n",
    "print(STRb)\n",
    "STRb.count('\\n')"
   ]
  },
  {
   "cell_type": "code",
   "execution_count": 7,
   "id": "03621da9",
   "metadata": {},
   "outputs": [
    {
     "data": {
      "text/plain": [
       "'This is my first python demonstration'"
      ]
     },
     "execution_count": 7,
     "metadata": {},
     "output_type": "execute_result"
    }
   ],
   "source": [
    "#Using replace function for strings\n",
    "STRc=STRa.replace(\"class\", \"demonstration\")\n",
    "STRc"
   ]
  },
  {
   "cell_type": "code",
   "execution_count": 8,
   "id": "388a6c84",
   "metadata": {},
   "outputs": [
    {
     "name": "stdout",
     "output_type": "stream",
     "text": [
      "\u001b[0;31mType:\u001b[0m        bool\n",
      "\u001b[0;31mString form:\u001b[0m True\n",
      "\u001b[0;31mDocstring:\u001b[0m  \n",
      "bool(x) -> bool\n",
      "\n",
      "Returns True when the argument x is true, False otherwise.\n",
      "The builtins True and False are the only two instances of the class bool.\n",
      "The class bool is a subclass of the class int, and cannot be subclassed."
     ]
    }
   ],
   "source": [
    "#Boolean operations and (?) function \n",
    "BOOLa=True\n",
    "BOOLb=False\n",
    "BOOLa?"
   ]
  },
  {
   "cell_type": "code",
   "execution_count": 9,
   "id": "c62e83ea",
   "metadata": {},
   "outputs": [
    {
     "name": "stdout",
     "output_type": "stream",
     "text": [
      "<class 'int'>\n",
      "<class 'bool'>\n"
     ]
    }
   ],
   "source": [
    "#Type casting of integer to boolean\n",
    "VARi=1\n",
    "BOOLc=bool(VARi)\n",
    "BOOLc\n",
    "print(type(VARi))\n",
    "print(type(BOOLc))"
   ]
  },
  {
   "cell_type": "code",
   "execution_count": 10,
   "id": "9cbd3634",
   "metadata": {},
   "outputs": [],
   "source": [
    "# Function to add 2 numbers if C is None else returns (a+b)*c\n",
    "def fn_add_maybe_multiply(a,b,c=None):\n",
    "    result=a+b\n",
    "    if c is not None:\n",
    "        result = result * c\n",
    "    return result"
   ]
  },
  {
   "cell_type": "code",
   "execution_count": 20,
   "id": "447eccb5",
   "metadata": {
    "scrolled": false
   },
   "outputs": [
    {
     "name": "stdout",
     "output_type": "stream",
     "text": [
      "\u001b[0;31mSignature:\u001b[0m \u001b[0mfn_add_maybe_multiply\u001b[0m\u001b[0;34m(\u001b[0m\u001b[0ma\u001b[0m\u001b[0;34m,\u001b[0m \u001b[0mb\u001b[0m\u001b[0;34m,\u001b[0m \u001b[0mc\u001b[0m\u001b[0;34m=\u001b[0m\u001b[0;32mNone\u001b[0m\u001b[0;34m)\u001b[0m\u001b[0;34m\u001b[0m\u001b[0;34m\u001b[0m\u001b[0m\n",
      "\u001b[0;31mDocstring:\u001b[0m <no docstring>\n",
      "\u001b[0;31mFile:\u001b[0m      /tmp/ipykernel_23717/3808648225.py\n",
      "\u001b[0;31mType:\u001b[0m      function"
     ]
    }
   ],
   "source": [
    "#Function call\n",
    "fn_add_maybe_multiply?"
   ]
  },
  {
   "cell_type": "code",
   "execution_count": 21,
   "id": "1eee8387",
   "metadata": {},
   "outputs": [
    {
     "data": {
      "text/plain": [
       "3"
      ]
     },
     "execution_count": 21,
     "metadata": {},
     "output_type": "execute_result"
    }
   ],
   "source": [
    "fn_add_maybe_multiply(1,2,None)"
   ]
  },
  {
   "cell_type": "code",
   "execution_count": 12,
   "id": "a4d328e2",
   "metadata": {},
   "outputs": [
    {
     "name": "stdout",
     "output_type": "stream",
     "text": [
      "It's negative\n"
     ]
    }
   ],
   "source": [
    "#If loop\n",
    "x=-5\n",
    "if x<0:\n",
    "    print(\"It's negative\")"
   ]
  },
  {
   "cell_type": "code",
   "execution_count": 13,
   "id": "2337c6a9",
   "metadata": {},
   "outputs": [
    {
     "name": "stdout",
     "output_type": "stream",
     "text": [
      "Positve and larger than or equal to 5\n"
     ]
    }
   ],
   "source": [
    "#If Elif Else loop\n",
    "x=5\n",
    "if x<0:\n",
    "    print(\"It's negative\")\n",
    "elif x==0:\n",
    "    print(\"Equal to zero\")\n",
    "elif 0<x<5:\n",
    "    print(\"Positive but smaller than 5\")\n",
    "else:\n",
    "    print(\"Positve and larger than or equal to 5\")\n",
    "        "
   ]
  },
  {
   "cell_type": "code",
   "execution_count": 14,
   "id": "193ff2d1",
   "metadata": {},
   "outputs": [
    {
     "data": {
      "text/plain": [
       "12"
      ]
     },
     "execution_count": 14,
     "metadata": {},
     "output_type": "execute_result"
    }
   ],
   "source": [
    "#For loop to count numbers in a list\n",
    "La=[1,2,None,4,None,5]\n",
    "tot=0\n",
    "for value in La:\n",
    "    if value is None:\n",
    "        continue\n",
    "    tot+=value\n",
    "tot"
   ]
  },
  {
   "cell_type": "code",
   "execution_count": 15,
   "id": "a6086345",
   "metadata": {},
   "outputs": [
    {
     "data": {
      "text/plain": [
       "13"
      ]
     },
     "execution_count": 15,
     "metadata": {},
     "output_type": "execute_result"
    }
   ],
   "source": [
    "#For loop with a break statement\n",
    "Lb=[1,2,0,4,6,5,2,1]\n",
    "tot_until_5=0\n",
    "for value in Lb:\n",
    "    if value==5:\n",
    "        break\n",
    "    tot_until_5+=value\n",
    "tot_until_5"
   ]
  },
  {
   "cell_type": "code",
   "execution_count": 16,
   "id": "de064621",
   "metadata": {},
   "outputs": [
    {
     "data": {
      "text/plain": [
       "504"
      ]
     },
     "execution_count": 16,
     "metadata": {},
     "output_type": "execute_result"
    }
   ],
   "source": [
    "#While loop with an If loop with a break statement\n",
    "x=256\n",
    "total=0\n",
    "while x>0:\n",
    "    if total>500:\n",
    "        break\n",
    "    total+=x\n",
    "    x=x//2\n",
    "total"
   ]
  },
  {
   "cell_type": "code",
   "execution_count": 17,
   "id": "aecde953",
   "metadata": {},
   "outputs": [],
   "source": [
    "#Pass statement is used so we can write something there in the future\n",
    "x=0\n",
    "if x<0:\n",
    "    print(\"Negative\")\n",
    "elif x==0:\n",
    "    #TODO: put something smart here\n",
    "    pass\n",
    "else:\n",
    "    print(\"Positive\")"
   ]
  },
  {
   "cell_type": "code",
   "execution_count": 18,
   "id": "676125e1",
   "metadata": {},
   "outputs": [
    {
     "data": {
      "text/plain": [
       "[0, 1, 2, 3, 4, 5, 6, 7, 8, 9]"
      ]
     },
     "execution_count": 18,
     "metadata": {},
     "output_type": "execute_result"
    }
   ],
   "source": [
    "#range function is used to create a range of numbers \n",
    "list(range(10))"
   ]
  },
  {
   "cell_type": "code",
   "execution_count": 19,
   "id": "babd2382",
   "metadata": {},
   "outputs": [
    {
     "name": "stdout",
     "output_type": "stream",
     "text": [
      "1\n",
      "2\n",
      "3\n",
      "4\n"
     ]
    }
   ],
   "source": [
    "Lseq=[1,2,3,4]\n",
    "for i in range(len(Lseq)):\n",
    "    print(Lseq[i])"
   ]
  },
  {
   "cell_type": "code",
   "execution_count": null,
   "id": "eb24ed6b",
   "metadata": {},
   "outputs": [],
   "source": []
  }
 ],
 "metadata": {
  "kernelspec": {
   "display_name": ".venv",
   "language": "python",
   "name": "python3"
  },
  "language_info": {
   "codemirror_mode": {
    "name": "ipython",
    "version": 3
   },
   "file_extension": ".py",
   "mimetype": "text/x-python",
   "name": "python",
   "nbconvert_exporter": "python",
   "pygments_lexer": "ipython3",
   "version": "3.10.12"
  }
 },
 "nbformat": 4,
 "nbformat_minor": 5
}
