{
 "cells": [
  {
   "cell_type": "markdown",
   "id": "19a74c50",
   "metadata": {},
   "source": [
    "NumPy basics and vectorized computation \n",
    "Exercises Name: Rovin Castelino\n",
    "Registration Number: 240957001\n",
    "PC 46\n",
    "24/01/2025"
   ]
  },
  {
   "cell_type": "markdown",
   "id": "d5037423",
   "metadata": {},
   "source": [
    "1. Generate a 3x4 NumPy array with random integers between 1 and 50. "
   ]
  },
  {
   "cell_type": "code",
   "execution_count": 1,
   "id": "1958704e",
   "metadata": {},
   "outputs": [],
   "source": [
    "import numpy as np\n",
    "from random import *"
   ]
  },
  {
   "cell_type": "code",
   "execution_count": 2,
   "id": "07398646",
   "metadata": {},
   "outputs": [
    {
     "name": "stdout",
     "output_type": "stream",
     "text": [
      "[[28 49 44 48]\n",
      " [ 7 28 47  9]\n",
      " [48 10  5 41]]\n"
     ]
    }
   ],
   "source": [
    "L=[]\n",
    "for i in range(12):\n",
    "    L.append(randint(1,50))\n",
    "arr=np.array(L)\n",
    "arr=arr.reshape(3,4)\n",
    "print(arr)"
   ]
  },
  {
   "cell_type": "markdown",
   "id": "bba686d8",
   "metadata": {},
   "source": [
    "a. Calculate and print the Mean, Median, and Standard Deviation of the array "
   ]
  },
  {
   "cell_type": "code",
   "execution_count": 3,
   "id": "03cbc2bb",
   "metadata": {},
   "outputs": [
    {
     "name": "stdout",
     "output_type": "stream",
     "text": [
      "Mean is 30.333333333333332\n",
      "Median is 34.5\n",
      "standard deviation is 17.360555546666383\n"
     ]
    }
   ],
   "source": [
    "mean=np.mean(arr)\n",
    "median=np.median(arr)\n",
    "sd=np.std(arr)\n",
    "print(\"Mean is\", mean)\n",
    "print(\"Median is\", median)\n",
    "print(\"standard deviation is\",sd)"
   ]
  },
  {
   "cell_type": "markdown",
   "id": "385aff5a",
   "metadata": {},
   "source": [
    "b. Print the Sum of all elements and the sum of each row. "
   ]
  },
  {
   "cell_type": "code",
   "execution_count": 4,
   "id": "5416577a",
   "metadata": {},
   "outputs": [
    {
     "name": "stdout",
     "output_type": "stream",
     "text": [
      "sum of row 0 is 169\n",
      "sum of row 1 is 91\n",
      "sum of row 2 is 104\n",
      "Total is 364\n"
     ]
    }
   ],
   "source": [
    "i=0\n",
    "total=0\n",
    "for row in arr:\n",
    "    print(\"sum of row\",i,\"is\",np.sum(row))\n",
    "    total+=np.sum(row)\n",
    "    i+=1\n",
    "print(\"Total is\",total)"
   ]
  },
  {
   "cell_type": "markdown",
   "id": "ab7b59c3",
   "metadata": {},
   "source": [
    "c. Reshape the 3x4 array into a 2x6 array and print it. "
   ]
  },
  {
   "cell_type": "code",
   "execution_count": 5,
   "id": "a6e731c8",
   "metadata": {},
   "outputs": [
    {
     "data": {
      "text/plain": [
       "array([[28, 49, 44, 48,  7, 28],\n",
       "       [47,  9, 48, 10,  5, 41]])"
      ]
     },
     "execution_count": 5,
     "metadata": {},
     "output_type": "execute_result"
    }
   ],
   "source": [
    "arr.reshape(2,6)"
   ]
  },
  {
   "cell_type": "markdown",
   "id": "d9986dfa",
   "metadata": {},
   "source": [
    "2. Create two (3 * 3) matrices using NumPy and print it. Perform and print the results of the following linear algebra operations"
   ]
  },
  {
   "cell_type": "code",
   "execution_count": 6,
   "id": "bf7f40af",
   "metadata": {},
   "outputs": [
    {
     "name": "stdout",
     "output_type": "stream",
     "text": [
      "Array 1\n",
      "[[2 2 2]\n",
      " [2 2 2]\n",
      " [2 2 2]]\n",
      "\n",
      "Array 2\n",
      "[[1 0 0]\n",
      " [0 1 0]\n",
      " [0 0 1]]\n"
     ]
    }
   ],
   "source": [
    "arr1=np.array([[2,2,2],[2,2,2],[2,2,2]])\n",
    "arr2=np.array([[1,0,0],[0,1,0],[0,0,1]])\n",
    "print(\"Array 1\")\n",
    "print(arr1)\n",
    "print()\n",
    "print(\"Array 2\")\n",
    "print(arr2)"
   ]
  },
  {
   "cell_type": "markdown",
   "id": "fcbd37ad",
   "metadata": {},
   "source": [
    "a. Matrix addition "
   ]
  },
  {
   "cell_type": "code",
   "execution_count": 7,
   "id": "26603aeb",
   "metadata": {},
   "outputs": [
    {
     "name": "stdout",
     "output_type": "stream",
     "text": [
      "[[3 2 2]\n",
      " [2 3 2]\n",
      " [2 2 3]]\n"
     ]
    }
   ],
   "source": [
    "print(arr1+arr2)"
   ]
  },
  {
   "cell_type": "markdown",
   "id": "c0516095",
   "metadata": {},
   "source": [
    "b. Matrix subtraction "
   ]
  },
  {
   "cell_type": "code",
   "execution_count": 8,
   "id": "0a10cf20",
   "metadata": {},
   "outputs": [
    {
     "name": "stdout",
     "output_type": "stream",
     "text": [
      "[[1 2 2]\n",
      " [2 1 2]\n",
      " [2 2 1]]\n"
     ]
    }
   ],
   "source": [
    "print(arr1-arr2)"
   ]
  },
  {
   "cell_type": "markdown",
   "id": "c0e92d01",
   "metadata": {},
   "source": [
    "c. Matrix multiplication (element-wise and dot product) "
   ]
  },
  {
   "cell_type": "code",
   "execution_count": 9,
   "id": "0f039d16",
   "metadata": {},
   "outputs": [
    {
     "name": "stdout",
     "output_type": "stream",
     "text": [
      "Matrix Multiplication\n",
      "[[2 2 2]\n",
      " [2 2 2]\n",
      " [2 2 2]]\n",
      "\n",
      "Dot Product\n",
      "[[2 2 2]\n",
      " [2 2 2]\n",
      " [2 2 2]]\n"
     ]
    }
   ],
   "source": [
    "print(\"Matrix Multiplication\")\n",
    "print(np.matmul(arr1,arr2))\n",
    "print()\n",
    "print(\"Dot Product\")\n",
    "print(np.dot(arr1,arr2))"
   ]
  },
  {
   "cell_type": "markdown",
   "id": "7b9e1121",
   "metadata": {},
   "source": [
    "d. Transpose of a matrix "
   ]
  },
  {
   "cell_type": "code",
   "execution_count": 10,
   "id": "10858037",
   "metadata": {},
   "outputs": [
    {
     "name": "stdout",
     "output_type": "stream",
     "text": [
      "Normal Matrix\n",
      "[[28 49 44 48]\n",
      " [ 7 28 47  9]\n",
      " [48 10  5 41]]\n",
      "\n",
      "Transpose of Matrix\n",
      "[[28  7 48]\n",
      " [49 28 10]\n",
      " [44 47  5]\n",
      " [48  9 41]]\n"
     ]
    }
   ],
   "source": [
    "print(\"Normal Matrix\")\n",
    "print(arr)\n",
    "print()\n",
    "print(\"Transpose of Matrix\")\n",
    "print(arr.T)"
   ]
  },
  {
   "cell_type": "markdown",
   "id": "6b0245a3",
   "metadata": {},
   "source": [
    "e. Determinant and inverse (if applicable) "
   ]
  },
  {
   "cell_type": "code",
   "execution_count": 11,
   "id": "303797a3",
   "metadata": {},
   "outputs": [
    {
     "name": "stdout",
     "output_type": "stream",
     "text": [
      "Determinant of Matrix is 39.99999999999998\n",
      "\n",
      "Inverse of the Matrix\n",
      "[[-1.575  0.675 -0.1  ]\n",
      " [ 1.4   -0.6    0.2  ]\n",
      " [-0.075  0.175 -0.1  ]]\n"
     ]
    }
   ],
   "source": [
    "from numpy.linalg import inv, det\n",
    "import math\n",
    "X =np.array([[1,2,3],[5,6,7],[8,9,0]])\n",
    "print(\"Determinant of Matrix is\",det(X))\n",
    "print()\n",
    "if det(X)!=0:\n",
    "    print(\"Inverse of the Matrix\")\n",
    "    print(inv(X))\n",
    "else:\n",
    "    print(\"Inverse is not possible\")"
   ]
  },
  {
   "cell_type": "code",
   "execution_count": null,
   "id": "f35337ea",
   "metadata": {},
   "outputs": [],
   "source": []
  }
 ],
 "metadata": {
  "kernelspec": {
   "display_name": ".venv",
   "language": "python",
   "name": "python3"
  },
  "language_info": {
   "codemirror_mode": {
    "name": "ipython",
    "version": 3
   },
   "file_extension": ".py",
   "mimetype": "text/x-python",
   "name": "python",
   "nbconvert_exporter": "python",
   "pygments_lexer": "ipython3",
   "version": "3.10.12"
  }
 },
 "nbformat": 4,
 "nbformat_minor": 5
}
