{
 "cells": [
  {
   "cell_type": "markdown",
   "id": "ff6cad02-aaa3-4277-ae4e-5ee3cad6bf5c",
   "metadata": {},
   "source": [
    "Demo 1: Python Language Basics\n",
    "Name: Rovin Castelino\n",
    "Registration Number: 240957001 \n",
    "PC 46\n",
    "10/1/25"
   ]
  },
  {
   "cell_type": "markdown",
   "id": "377f0d02-1abe-4b8a-9231-c83e722209f4",
   "metadata": {},
   "source": [
    "1. Write a Python function to input two numbers and perform the Calculator operations of (+, -, *, /).  "
   ]
  },
  {
   "cell_type": "code",
   "execution_count": 1,
   "id": "0671e82c",
   "metadata": {},
   "outputs": [
    {
     "name": "stdout",
     "output_type": "stream",
     "text": [
      "10 + 2 = 12\n",
      "10 - 2 = 8\n",
      "10 * 2 = 20\n",
      "10 / 2 = 5.0\n"
     ]
    }
   ],
   "source": [
    "def mathe(a,b):\n",
    "    print(a ,'+', b ,'=', a+b)\n",
    "    print(a ,'-', b ,'=', a-b)\n",
    "    print(a ,'*', b ,'=', a*b)\n",
    "    print(a ,'/', b ,'=', a/b)\n",
    "\n",
    "a=int(input(\"Enter number 1: \"))\n",
    "b=int(input(\"Enter number 2: \"))\n",
    "\n",
    "mathe(a,b)"
   ]
  },
  {
   "cell_type": "markdown",
   "id": "5700fe97-f923-4acc-b738-901bd12a6120",
   "metadata": {},
   "source": [
    "2. Write a Python function that takes an integer and returns True if it’s a prime number and False otherwise. "
   ]
  },
  {
   "cell_type": "code",
   "execution_count": 2,
   "id": "49796eca-82ee-42b8-b408-f1fd54cf9da3",
   "metadata": {},
   "outputs": [
    {
     "name": "stdout",
     "output_type": "stream",
     "text": [
      "True\n"
     ]
    }
   ],
   "source": [
    "def prime(a):\n",
    "    b=0\n",
    "    for i in range(a-1,1,-1):\n",
    "        if a%i==0:\n",
    "            b+=1\n",
    "    if b==0:\n",
    "        print(\"True\")\n",
    "    else:\n",
    "        print(\"False\")\n",
    "\n",
    "a=int(input(\"Enter a number: \"))\n",
    "\n",
    "prime(a)"
   ]
  },
  {
   "cell_type": "markdown",
   "id": "3eb577bc-0b65-439d-bb13-3cc310990f44",
   "metadata": {},
   "source": [
    "3. Create a Python function that creates a sequence between 1 and  100 and prints all the odd numbers. Compute and display the sum of all the even numbers. "
   ]
  },
  {
   "cell_type": "code",
   "execution_count": 3,
   "id": "1aaf32ba-737c-4ccf-9fd9-42bb3f59d40a",
   "metadata": {},
   "outputs": [
    {
     "name": "stdout",
     "output_type": "stream",
     "text": [
      "1\n",
      "3\n",
      "5\n",
      "7\n",
      "9\n",
      "11\n",
      "13\n",
      "15\n",
      "17\n",
      "19\n",
      "21\n",
      "23\n",
      "25\n",
      "27\n",
      "29\n",
      "31\n",
      "33\n",
      "35\n",
      "37\n",
      "39\n",
      "41\n",
      "43\n",
      "45\n",
      "47\n",
      "49\n",
      "51\n",
      "53\n",
      "55\n",
      "57\n",
      "59\n",
      "61\n",
      "63\n",
      "65\n",
      "67\n",
      "69\n",
      "71\n",
      "73\n",
      "75\n",
      "77\n",
      "79\n",
      "81\n",
      "83\n",
      "85\n",
      "87\n",
      "89\n",
      "91\n",
      "93\n",
      "95\n",
      "97\n",
      "99\n",
      "sum of all even numbers is 2450\n"
     ]
    }
   ],
   "source": [
    "def prime():\n",
    "    sum=0\n",
    "    for i in range(1,100):\n",
    "        if i%2==0:\n",
    "            sum+=i\n",
    "        else:\n",
    "            print(i)\n",
    "    print(\"sum of all even numbers is\",sum)\n",
    "prime()"
   ]
  },
  {
   "cell_type": "markdown",
   "id": "be112897-eeca-45b4-b45f-51c2dfc3394f",
   "metadata": {},
   "source": [
    "4. Write a Python function to add two elements and display the result. The elements can be of type integer, float or string. "
   ]
  },
  {
   "cell_type": "code",
   "execution_count": 4,
   "id": "a20d05e0-d2a1-4d4d-9c95-0a5de5fcce9c",
   "metadata": {},
   "outputs": [],
   "source": [
    "def add(a,b):\n",
    "    if (type(a)==int or type(a)==float):\n",
    "        if (type(b)==int or type(b)==float):\n",
    "             return a+b\n",
    "    return str(a)+str(b)"
   ]
  },
  {
   "cell_type": "code",
   "execution_count": 5,
   "id": "8e822c5c-81ef-4f63-9876-6fcd75016bd2",
   "metadata": {},
   "outputs": [
    {
     "data": {
      "text/plain": [
       "3"
      ]
     },
     "execution_count": 5,
     "metadata": {},
     "output_type": "execute_result"
    }
   ],
   "source": [
    "add(1,2)"
   ]
  },
  {
   "cell_type": "code",
   "execution_count": 6,
   "id": "dec6d45a-51b8-4dba-ae33-266c121eabcb",
   "metadata": {},
   "outputs": [
    {
     "data": {
      "text/plain": [
       "3.5"
      ]
     },
     "execution_count": 6,
     "metadata": {},
     "output_type": "execute_result"
    }
   ],
   "source": [
    "add(1,2.5)"
   ]
  },
  {
   "cell_type": "code",
   "execution_count": 7,
   "id": "278e6f03-371e-40e5-8b7c-78e3fec22ec2",
   "metadata": {},
   "outputs": [
    {
     "data": {
      "text/plain": [
       "'1hello'"
      ]
     },
     "execution_count": 7,
     "metadata": {},
     "output_type": "execute_result"
    }
   ],
   "source": [
    "add(1,'hello')"
   ]
  },
  {
   "cell_type": "markdown",
   "id": "007b6b91-176e-4b96-afe5-fca3d9d502fa",
   "metadata": {},
   "source": [
    "5. Write a Python function that takes a string input from the user and counts the number of vowels and consonants in the string"
   ]
  },
  {
   "cell_type": "code",
   "execution_count": 8,
   "id": "afa31d6a-1bf9-454c-a278-434c6fc3efe5",
   "metadata": {},
   "outputs": [
    {
     "name": "stdout",
     "output_type": "stream",
     "text": [
      "Vowels:  3\n",
      "Consonants: 3\n"
     ]
    }
   ],
   "source": [
    "def check(a):\n",
    "    v=0\n",
    "    c=0\n",
    "    b='aeiou'\n",
    "    for i in a:\n",
    "        if i.lower() in b:\n",
    "            v+=1\n",
    "        else:\n",
    "            c+=1\n",
    "    print(\"Vowels: \", v)\n",
    "    print(\"Consonants:\", c)\n",
    "\n",
    "a=input(\"Enter string: \")\n",
    "\n",
    "check(a)"
   ]
  },
  {
   "cell_type": "code",
   "execution_count": null,
   "id": "b4929ee7-66f4-4789-9c7a-0ac4ad62a788",
   "metadata": {},
   "outputs": [],
   "source": []
  }
 ],
 "metadata": {
  "kernelspec": {
   "display_name": ".venv",
   "language": "python",
   "name": "python3"
  },
  "language_info": {
   "codemirror_mode": {
    "name": "ipython",
    "version": 3
   },
   "file_extension": ".py",
   "mimetype": "text/x-python",
   "name": "python",
   "nbconvert_exporter": "python",
   "pygments_lexer": "ipython3",
   "version": "3.10.12"
  }
 },
 "nbformat": 4,
 "nbformat_minor": 5
}
