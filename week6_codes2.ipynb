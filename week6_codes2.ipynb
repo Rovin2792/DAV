{
 "cells": [
  {
   "cell_type": "markdown",
   "id": "8f4a9cbf",
   "metadata": {},
   "source": [
    "Data Visualization: context, effective visuals and storytelling\n",
    "Name: Rovin Castelino\n",
    "Registration Number: 240957001\n",
    "PC 46\n",
    "24/01/2025"
   ]
  },
  {
   "cell_type": "code",
   "execution_count": 1,
   "id": "4de317ad",
   "metadata": {},
   "outputs": [],
   "source": [
    "import pandas as pd\n",
    "import numpy as np\n",
    "import matplotlib.pyplot as plt\n",
    "cereals_df=pd.read_csv(\"examples/Cereals.csv\")"
   ]
  },
  {
   "cell_type": "markdown",
   "id": "45c1d3ac",
   "metadata": {},
   "source": [
    "1.\tHow many cereals(unique brands) are there in the dataset?"
   ]
  },
  {
   "cell_type": "code",
   "execution_count": 2,
   "id": "3b9e1c09",
   "metadata": {},
   "outputs": [
    {
     "data": {
      "text/html": [
       "<div>\n",
       "<style scoped>\n",
       "    .dataframe tbody tr th:only-of-type {\n",
       "        vertical-align: middle;\n",
       "    }\n",
       "\n",
       "    .dataframe tbody tr th {\n",
       "        vertical-align: top;\n",
       "    }\n",
       "\n",
       "    .dataframe thead th {\n",
       "        text-align: right;\n",
       "    }\n",
       "</style>\n",
       "<table border=\"1\" class=\"dataframe\">\n",
       "  <thead>\n",
       "    <tr style=\"text-align: right;\">\n",
       "      <th></th>\n",
       "      <th>name</th>\n",
       "      <th>mfr</th>\n",
       "      <th>type</th>\n",
       "      <th>calories</th>\n",
       "      <th>protein</th>\n",
       "      <th>fat</th>\n",
       "      <th>sodium</th>\n",
       "      <th>fiber</th>\n",
       "      <th>carbo</th>\n",
       "      <th>sugars</th>\n",
       "      <th>potass</th>\n",
       "      <th>vitamins</th>\n",
       "      <th>shelf</th>\n",
       "      <th>weight</th>\n",
       "      <th>cups</th>\n",
       "      <th>rating</th>\n",
       "    </tr>\n",
       "  </thead>\n",
       "  <tbody>\n",
       "    <tr>\n",
       "      <th>0</th>\n",
       "      <td>100NaturalBran</td>\n",
       "      <td>Q</td>\n",
       "      <td>C</td>\n",
       "      <td>120</td>\n",
       "      <td>3</td>\n",
       "      <td>5</td>\n",
       "      <td>15</td>\n",
       "      <td>2.0</td>\n",
       "      <td>8</td>\n",
       "      <td>8</td>\n",
       "      <td>135</td>\n",
       "      <td>0</td>\n",
       "      <td>3</td>\n",
       "      <td>1.0</td>\n",
       "      <td>1.00</td>\n",
       "      <td>33.983679</td>\n",
       "    </tr>\n",
       "    <tr>\n",
       "      <th>1</th>\n",
       "      <td>All-Bran</td>\n",
       "      <td>K</td>\n",
       "      <td>C</td>\n",
       "      <td>70</td>\n",
       "      <td>4</td>\n",
       "      <td>1</td>\n",
       "      <td>260</td>\n",
       "      <td>9.0</td>\n",
       "      <td>7</td>\n",
       "      <td>5</td>\n",
       "      <td>320</td>\n",
       "      <td>25</td>\n",
       "      <td>3</td>\n",
       "      <td>1.0</td>\n",
       "      <td>0.33</td>\n",
       "      <td>59.425505</td>\n",
       "    </tr>\n",
       "    <tr>\n",
       "      <th>2</th>\n",
       "      <td>All-BranwithExtraFiber</td>\n",
       "      <td>K</td>\n",
       "      <td>C</td>\n",
       "      <td>50</td>\n",
       "      <td>4</td>\n",
       "      <td>0</td>\n",
       "      <td>140</td>\n",
       "      <td>14.0</td>\n",
       "      <td>8</td>\n",
       "      <td>0</td>\n",
       "      <td>330</td>\n",
       "      <td>25</td>\n",
       "      <td>3</td>\n",
       "      <td>1.0</td>\n",
       "      <td>0.50</td>\n",
       "      <td>93.704912</td>\n",
       "    </tr>\n",
       "    <tr>\n",
       "      <th>3</th>\n",
       "      <td>AlmondDelight</td>\n",
       "      <td>R</td>\n",
       "      <td>C</td>\n",
       "      <td>110</td>\n",
       "      <td>2</td>\n",
       "      <td>2</td>\n",
       "      <td>200</td>\n",
       "      <td>1.0</td>\n",
       "      <td>14</td>\n",
       "      <td>8</td>\n",
       "      <td>?</td>\n",
       "      <td>25</td>\n",
       "      <td>3</td>\n",
       "      <td>1.0</td>\n",
       "      <td>0.75</td>\n",
       "      <td>34.384843</td>\n",
       "    </tr>\n",
       "    <tr>\n",
       "      <th>4</th>\n",
       "      <td>AppleCinnamonCheerios</td>\n",
       "      <td>G</td>\n",
       "      <td>C</td>\n",
       "      <td>110</td>\n",
       "      <td>2</td>\n",
       "      <td>2</td>\n",
       "      <td>180</td>\n",
       "      <td>1.5</td>\n",
       "      <td>10.5</td>\n",
       "      <td>10</td>\n",
       "      <td>70</td>\n",
       "      <td>25</td>\n",
       "      <td>1</td>\n",
       "      <td>1.0</td>\n",
       "      <td>0.75</td>\n",
       "      <td>29.509541</td>\n",
       "    </tr>\n",
       "    <tr>\n",
       "      <th>...</th>\n",
       "      <td>...</td>\n",
       "      <td>...</td>\n",
       "      <td>...</td>\n",
       "      <td>...</td>\n",
       "      <td>...</td>\n",
       "      <td>...</td>\n",
       "      <td>...</td>\n",
       "      <td>...</td>\n",
       "      <td>...</td>\n",
       "      <td>...</td>\n",
       "      <td>...</td>\n",
       "      <td>...</td>\n",
       "      <td>...</td>\n",
       "      <td>...</td>\n",
       "      <td>...</td>\n",
       "      <td>...</td>\n",
       "    </tr>\n",
       "    <tr>\n",
       "      <th>71</th>\n",
       "      <td>Triples</td>\n",
       "      <td>G</td>\n",
       "      <td>C</td>\n",
       "      <td>110</td>\n",
       "      <td>2</td>\n",
       "      <td>1</td>\n",
       "      <td>250</td>\n",
       "      <td>0.0</td>\n",
       "      <td>21</td>\n",
       "      <td>3</td>\n",
       "      <td>60</td>\n",
       "      <td>25</td>\n",
       "      <td>3</td>\n",
       "      <td>1.0</td>\n",
       "      <td>0.75</td>\n",
       "      <td>39.106174</td>\n",
       "    </tr>\n",
       "    <tr>\n",
       "      <th>72</th>\n",
       "      <td>Trix</td>\n",
       "      <td>G</td>\n",
       "      <td>C</td>\n",
       "      <td>110</td>\n",
       "      <td>1</td>\n",
       "      <td>1</td>\n",
       "      <td>140</td>\n",
       "      <td>0.0</td>\n",
       "      <td>13</td>\n",
       "      <td>12</td>\n",
       "      <td>25</td>\n",
       "      <td>25</td>\n",
       "      <td>2</td>\n",
       "      <td>1.0</td>\n",
       "      <td>1.00</td>\n",
       "      <td>27.753301</td>\n",
       "    </tr>\n",
       "    <tr>\n",
       "      <th>73</th>\n",
       "      <td>WheatChex</td>\n",
       "      <td>R</td>\n",
       "      <td>C</td>\n",
       "      <td>100</td>\n",
       "      <td>3</td>\n",
       "      <td>1</td>\n",
       "      <td>230</td>\n",
       "      <td>3.0</td>\n",
       "      <td>17</td>\n",
       "      <td>3</td>\n",
       "      <td>115</td>\n",
       "      <td>25</td>\n",
       "      <td>1</td>\n",
       "      <td>1.0</td>\n",
       "      <td>0.67</td>\n",
       "      <td>49.787445</td>\n",
       "    </tr>\n",
       "    <tr>\n",
       "      <th>74</th>\n",
       "      <td>Wheaties</td>\n",
       "      <td>G</td>\n",
       "      <td>C</td>\n",
       "      <td>100</td>\n",
       "      <td>3</td>\n",
       "      <td>1</td>\n",
       "      <td>200</td>\n",
       "      <td>3.0</td>\n",
       "      <td>17</td>\n",
       "      <td>3</td>\n",
       "      <td>110</td>\n",
       "      <td>25</td>\n",
       "      <td>1</td>\n",
       "      <td>1.0</td>\n",
       "      <td>1.00</td>\n",
       "      <td>51.592193</td>\n",
       "    </tr>\n",
       "    <tr>\n",
       "      <th>75</th>\n",
       "      <td>WheatiesHoneyGold</td>\n",
       "      <td>G</td>\n",
       "      <td>C</td>\n",
       "      <td>110</td>\n",
       "      <td>2</td>\n",
       "      <td>1</td>\n",
       "      <td>200</td>\n",
       "      <td>1.0</td>\n",
       "      <td>16</td>\n",
       "      <td>8</td>\n",
       "      <td>60</td>\n",
       "      <td>25</td>\n",
       "      <td>1</td>\n",
       "      <td>1.0</td>\n",
       "      <td>0.75</td>\n",
       "      <td>36.187559</td>\n",
       "    </tr>\n",
       "  </tbody>\n",
       "</table>\n",
       "<p>76 rows × 16 columns</p>\n",
       "</div>"
      ],
      "text/plain": [
       "                      name mfr type  calories  protein  fat  sodium  fiber  \\\n",
       "0           100NaturalBran   Q    C       120        3    5      15    2.0   \n",
       "1                 All-Bran   K    C        70        4    1     260    9.0   \n",
       "2   All-BranwithExtraFiber   K    C        50        4    0     140   14.0   \n",
       "3            AlmondDelight   R    C       110        2    2     200    1.0   \n",
       "4    AppleCinnamonCheerios   G    C       110        2    2     180    1.5   \n",
       "..                     ...  ..  ...       ...      ...  ...     ...    ...   \n",
       "71                 Triples   G    C       110        2    1     250    0.0   \n",
       "72                    Trix   G    C       110        1    1     140    0.0   \n",
       "73               WheatChex   R    C       100        3    1     230    3.0   \n",
       "74                Wheaties   G    C       100        3    1     200    3.0   \n",
       "75       WheatiesHoneyGold   G    C       110        2    1     200    1.0   \n",
       "\n",
       "   carbo sugars potass  vitamins  shelf  weight  cups     rating  \n",
       "0      8      8    135         0      3     1.0  1.00  33.983679  \n",
       "1      7      5    320        25      3     1.0  0.33  59.425505  \n",
       "2      8      0    330        25      3     1.0  0.50  93.704912  \n",
       "3     14      8      ?        25      3     1.0  0.75  34.384843  \n",
       "4   10.5     10     70        25      1     1.0  0.75  29.509541  \n",
       "..   ...    ...    ...       ...    ...     ...   ...        ...  \n",
       "71    21      3     60        25      3     1.0  0.75  39.106174  \n",
       "72    13     12     25        25      2     1.0  1.00  27.753301  \n",
       "73    17      3    115        25      1     1.0  0.67  49.787445  \n",
       "74    17      3    110        25      1     1.0  1.00  51.592193  \n",
       "75    16      8     60        25      1     1.0  0.75  36.187559  \n",
       "\n",
       "[76 rows x 16 columns]"
      ]
     },
     "execution_count": 2,
     "metadata": {},
     "output_type": "execute_result"
    }
   ],
   "source": [
    "frame=pd.DataFrame(cereals_df)\n",
    "frame"
   ]
  },
  {
   "cell_type": "code",
   "execution_count": 3,
   "id": "a17c1a7d",
   "metadata": {},
   "outputs": [
    {
     "data": {
      "text/plain": [
       "np.int64(76)"
      ]
     },
     "execution_count": 3,
     "metadata": {},
     "output_type": "execute_result"
    }
   ],
   "source": [
    "a=frame[\"name\"]\n",
    "a.count()"
   ]
  },
  {
   "cell_type": "markdown",
   "id": "02f5efed",
   "metadata": {},
   "source": [
    "2.\tHow many cereals are listed per manufacturer of the cereal?"
   ]
  },
  {
   "cell_type": "code",
   "execution_count": 4,
   "id": "480be3b5",
   "metadata": {},
   "outputs": [
    {
     "data": {
      "text/plain": [
       "mfr\n",
       "K    23\n",
       "G    22\n",
       "P     9\n",
       "R     8\n",
       "Q     8\n",
       "N     5\n",
       "A     1\n",
       "Name: count, dtype: int64"
      ]
     },
     "execution_count": 4,
     "metadata": {},
     "output_type": "execute_result"
    }
   ],
   "source": [
    "b=frame[\"mfr\"]\n",
    "b.value_counts()"
   ]
  },
  {
   "cell_type": "markdown",
   "id": "c7732e15",
   "metadata": {},
   "source": [
    "3.\tHow many hot vs cold cereals?"
   ]
  },
  {
   "cell_type": "code",
   "execution_count": 5,
   "id": "f9005504",
   "metadata": {},
   "outputs": [
    {
     "data": {
      "text/plain": [
       "type\n",
       "C    73\n",
       "H     3\n",
       "Name: count, dtype: int64"
      ]
     },
     "execution_count": 5,
     "metadata": {},
     "output_type": "execute_result"
    }
   ],
   "source": [
    "c=frame[\"type\"]\n",
    "c.value_counts()"
   ]
  },
  {
   "cell_type": "markdown",
   "id": "b1905156",
   "metadata": {},
   "source": [
    "4.\tWhich is the best and worst cereal?"
   ]
  },
  {
   "cell_type": "code",
   "execution_count": 6,
   "id": "c14d7e7b",
   "metadata": {},
   "outputs": [
    {
     "name": "stdout",
     "output_type": "stream",
     "text": [
      "Best cereal is  2    All-BranwithExtraFiber\n",
      "Name: name, dtype: object 2    93.704912\n",
      "Name: rating, dtype: float64\n"
     ]
    }
   ],
   "source": [
    "d=frame[frame[\"rating\"] == frame[\"rating\"].max()]\n",
    "print(\"Best cereal is \", d[\"name\"], d[\"rating\"])"
   ]
  },
  {
   "cell_type": "code",
   "execution_count": 7,
   "id": "35c1205c",
   "metadata": {},
   "outputs": [
    {
     "name": "stdout",
     "output_type": "stream",
     "text": [
      "Worst cereal is  9    CapnCrunch\n",
      "Name: name, dtype: object 9    18.042851\n",
      "Name: rating, dtype: float64\n"
     ]
    }
   ],
   "source": [
    "d=frame[frame[\"rating\"] == frame[\"rating\"].min()]\n",
    "print(\"Worst cereal is \", d[\"name\"], d[\"rating\"])"
   ]
  },
  {
   "cell_type": "markdown",
   "id": "cf078252",
   "metadata": {},
   "source": [
    "5.\tCompare the rating for hot vs cold cereals. Which do people prefer?"
   ]
  },
  {
   "cell_type": "code",
   "execution_count": 8,
   "id": "a33bd9ee",
   "metadata": {},
   "outputs": [
    {
     "name": "stdout",
     "output_type": "stream",
     "text": [
      "Rating for cold is  41.73483816438357\n",
      "Rating for hot is  56.73770833333334\n"
     ]
    }
   ],
   "source": [
    "e=frame[\"type\"]==\"C\"\n",
    "print(\"Rating for cold is \",np.mean(frame[e][\"rating\"]))\n",
    "e=frame[\"type\"]==\"H\"\n",
    "print(\"Rating for hot is \",np.mean(frame[e][\"rating\"]))"
   ]
  },
  {
   "cell_type": "markdown",
   "id": "5d7b6781",
   "metadata": {},
   "source": [
    "6.\tWhich cereals have the highest fiber and lowest sugar?"
   ]
  },
  {
   "cell_type": "code",
   "execution_count": 9,
   "id": "5c253cc8",
   "metadata": {},
   "outputs": [
    {
     "data": {
      "text/html": [
       "<div>\n",
       "<style scoped>\n",
       "    .dataframe tbody tr th:only-of-type {\n",
       "        vertical-align: middle;\n",
       "    }\n",
       "\n",
       "    .dataframe tbody tr th {\n",
       "        vertical-align: top;\n",
       "    }\n",
       "\n",
       "    .dataframe thead th {\n",
       "        text-align: right;\n",
       "    }\n",
       "</style>\n",
       "<table border=\"1\" class=\"dataframe\">\n",
       "  <thead>\n",
       "    <tr style=\"text-align: right;\">\n",
       "      <th></th>\n",
       "      <th>name</th>\n",
       "      <th>mfr</th>\n",
       "      <th>type</th>\n",
       "      <th>calories</th>\n",
       "      <th>protein</th>\n",
       "      <th>fat</th>\n",
       "      <th>sodium</th>\n",
       "      <th>fiber</th>\n",
       "      <th>carbo</th>\n",
       "      <th>sugars</th>\n",
       "      <th>potass</th>\n",
       "      <th>vitamins</th>\n",
       "      <th>shelf</th>\n",
       "      <th>weight</th>\n",
       "      <th>cups</th>\n",
       "      <th>rating</th>\n",
       "    </tr>\n",
       "  </thead>\n",
       "  <tbody>\n",
       "    <tr>\n",
       "      <th>2</th>\n",
       "      <td>All-BranwithExtraFiber</td>\n",
       "      <td>K</td>\n",
       "      <td>C</td>\n",
       "      <td>50</td>\n",
       "      <td>4</td>\n",
       "      <td>0</td>\n",
       "      <td>140</td>\n",
       "      <td>14.0</td>\n",
       "      <td>8</td>\n",
       "      <td>0</td>\n",
       "      <td>330</td>\n",
       "      <td>25</td>\n",
       "      <td>3</td>\n",
       "      <td>1.0</td>\n",
       "      <td>0.5</td>\n",
       "      <td>93.704912</td>\n",
       "    </tr>\n",
       "  </tbody>\n",
       "</table>\n",
       "</div>"
      ],
      "text/plain": [
       "                     name mfr type  calories  protein  fat  sodium  fiber  \\\n",
       "2  All-BranwithExtraFiber   K    C        50        4    0     140   14.0   \n",
       "\n",
       "  carbo sugars potass  vitamins  shelf  weight  cups     rating  \n",
       "2     8      0    330        25      3     1.0   0.5  93.704912  "
      ]
     },
     "execution_count": 9,
     "metadata": {},
     "output_type": "execute_result"
    }
   ],
   "source": [
    "frame.loc[(frame[\"fiber\"] == frame[\"fiber\"].max()) & (frame[\"sugars\"] == frame[\"sugars\"].min())]"
   ]
  },
  {
   "cell_type": "markdown",
   "id": "67cd6301",
   "metadata": {},
   "source": [
    "7.\tWhich Cereals that have more than 3 grams of protein?"
   ]
  },
  {
   "cell_type": "code",
   "execution_count": 10,
   "id": "bf5c1650",
   "metadata": {},
   "outputs": [
    {
     "data": {
      "text/html": [
       "<div>\n",
       "<style scoped>\n",
       "    .dataframe tbody tr th:only-of-type {\n",
       "        vertical-align: middle;\n",
       "    }\n",
       "\n",
       "    .dataframe tbody tr th {\n",
       "        vertical-align: top;\n",
       "    }\n",
       "\n",
       "    .dataframe thead th {\n",
       "        text-align: right;\n",
       "    }\n",
       "</style>\n",
       "<table border=\"1\" class=\"dataframe\">\n",
       "  <thead>\n",
       "    <tr style=\"text-align: right;\">\n",
       "      <th></th>\n",
       "      <th>name</th>\n",
       "      <th>mfr</th>\n",
       "      <th>type</th>\n",
       "      <th>calories</th>\n",
       "      <th>protein</th>\n",
       "      <th>fat</th>\n",
       "      <th>sodium</th>\n",
       "      <th>fiber</th>\n",
       "      <th>carbo</th>\n",
       "      <th>sugars</th>\n",
       "      <th>potass</th>\n",
       "      <th>vitamins</th>\n",
       "      <th>shelf</th>\n",
       "      <th>weight</th>\n",
       "      <th>cups</th>\n",
       "      <th>rating</th>\n",
       "    </tr>\n",
       "  </thead>\n",
       "  <tbody>\n",
       "    <tr>\n",
       "      <th>1</th>\n",
       "      <td>All-Bran</td>\n",
       "      <td>K</td>\n",
       "      <td>C</td>\n",
       "      <td>70</td>\n",
       "      <td>4</td>\n",
       "      <td>1</td>\n",
       "      <td>260</td>\n",
       "      <td>9.0</td>\n",
       "      <td>7</td>\n",
       "      <td>5</td>\n",
       "      <td>320</td>\n",
       "      <td>25</td>\n",
       "      <td>3</td>\n",
       "      <td>1.0</td>\n",
       "      <td>0.33</td>\n",
       "      <td>59.425505</td>\n",
       "    </tr>\n",
       "    <tr>\n",
       "      <th>2</th>\n",
       "      <td>All-BranwithExtraFiber</td>\n",
       "      <td>K</td>\n",
       "      <td>C</td>\n",
       "      <td>50</td>\n",
       "      <td>4</td>\n",
       "      <td>0</td>\n",
       "      <td>140</td>\n",
       "      <td>14.0</td>\n",
       "      <td>8</td>\n",
       "      <td>0</td>\n",
       "      <td>330</td>\n",
       "      <td>25</td>\n",
       "      <td>3</td>\n",
       "      <td>1.0</td>\n",
       "      <td>0.50</td>\n",
       "      <td>93.704912</td>\n",
       "    </tr>\n",
       "    <tr>\n",
       "      <th>10</th>\n",
       "      <td>Cheerios</td>\n",
       "      <td>G</td>\n",
       "      <td>C</td>\n",
       "      <td>110</td>\n",
       "      <td>6</td>\n",
       "      <td>2</td>\n",
       "      <td>290</td>\n",
       "      <td>2.0</td>\n",
       "      <td>17</td>\n",
       "      <td>1</td>\n",
       "      <td>105</td>\n",
       "      <td>25</td>\n",
       "      <td>1</td>\n",
       "      <td>1.0</td>\n",
       "      <td>1.25</td>\n",
       "      <td>50.764999</td>\n",
       "    </tr>\n",
       "    <tr>\n",
       "      <th>40</th>\n",
       "      <td>Life</td>\n",
       "      <td>Q</td>\n",
       "      <td>C</td>\n",
       "      <td>100</td>\n",
       "      <td>4</td>\n",
       "      <td>2</td>\n",
       "      <td>150</td>\n",
       "      <td>2.0</td>\n",
       "      <td>12</td>\n",
       "      <td>6</td>\n",
       "      <td>95</td>\n",
       "      <td>25</td>\n",
       "      <td>2</td>\n",
       "      <td>1.0</td>\n",
       "      <td>0.67</td>\n",
       "      <td>45.328074</td>\n",
       "    </tr>\n",
       "    <tr>\n",
       "      <th>42</th>\n",
       "      <td>Maypo</td>\n",
       "      <td>A</td>\n",
       "      <td>H</td>\n",
       "      <td>100</td>\n",
       "      <td>4</td>\n",
       "      <td>1</td>\n",
       "      <td>0</td>\n",
       "      <td>0.0</td>\n",
       "      <td>16</td>\n",
       "      <td>3</td>\n",
       "      <td>95</td>\n",
       "      <td>25</td>\n",
       "      <td>2</td>\n",
       "      <td>1.0</td>\n",
       "      <td>1.00</td>\n",
       "      <td>54.850917</td>\n",
       "    </tr>\n",
       "    <tr>\n",
       "      <th>43</th>\n",
       "      <td>MuesliRaisinsDatesAlmonds</td>\n",
       "      <td>R</td>\n",
       "      <td>C</td>\n",
       "      <td>150</td>\n",
       "      <td>4</td>\n",
       "      <td>3</td>\n",
       "      <td>95</td>\n",
       "      <td>3.0</td>\n",
       "      <td>16</td>\n",
       "      <td>11</td>\n",
       "      <td>170</td>\n",
       "      <td>25</td>\n",
       "      <td>3</td>\n",
       "      <td>1.0</td>\n",
       "      <td>1.00</td>\n",
       "      <td>37.136863</td>\n",
       "    </tr>\n",
       "    <tr>\n",
       "      <th>44</th>\n",
       "      <td>MuesliRaisinsPeachesPecans</td>\n",
       "      <td>R</td>\n",
       "      <td>C</td>\n",
       "      <td>150</td>\n",
       "      <td>4</td>\n",
       "      <td>3</td>\n",
       "      <td>150</td>\n",
       "      <td>3.0</td>\n",
       "      <td>16</td>\n",
       "      <td>11</td>\n",
       "      <td>170</td>\n",
       "      <td>25</td>\n",
       "      <td>3</td>\n",
       "      <td>1.0</td>\n",
       "      <td>1.00</td>\n",
       "      <td>34.139765</td>\n",
       "    </tr>\n",
       "    <tr>\n",
       "      <th>55</th>\n",
       "      <td>QuakerOatSquares</td>\n",
       "      <td>Q</td>\n",
       "      <td>C</td>\n",
       "      <td>100</td>\n",
       "      <td>4</td>\n",
       "      <td>1</td>\n",
       "      <td>135</td>\n",
       "      <td>2.0</td>\n",
       "      <td>14</td>\n",
       "      <td>6</td>\n",
       "      <td>110</td>\n",
       "      <td>25</td>\n",
       "      <td>3</td>\n",
       "      <td>1.0</td>\n",
       "      <td>0.50</td>\n",
       "      <td>49.511874</td>\n",
       "    </tr>\n",
       "    <tr>\n",
       "      <th>56</th>\n",
       "      <td>QuakerOatmeal</td>\n",
       "      <td>Q</td>\n",
       "      <td>H</td>\n",
       "      <td>100</td>\n",
       "      <td>5</td>\n",
       "      <td>2</td>\n",
       "      <td>0</td>\n",
       "      <td>2.7</td>\n",
       "      <td>?</td>\n",
       "      <td>?</td>\n",
       "      <td>110</td>\n",
       "      <td>0</td>\n",
       "      <td>1</td>\n",
       "      <td>1.0</td>\n",
       "      <td>0.67</td>\n",
       "      <td>50.828392</td>\n",
       "    </tr>\n",
       "    <tr>\n",
       "      <th>66</th>\n",
       "      <td>SpecialK</td>\n",
       "      <td>K</td>\n",
       "      <td>C</td>\n",
       "      <td>110</td>\n",
       "      <td>6</td>\n",
       "      <td>0</td>\n",
       "      <td>230</td>\n",
       "      <td>1.0</td>\n",
       "      <td>16</td>\n",
       "      <td>3</td>\n",
       "      <td>55</td>\n",
       "      <td>25</td>\n",
       "      <td>1</td>\n",
       "      <td>1.0</td>\n",
       "      <td>1.00</td>\n",
       "      <td>53.131324</td>\n",
       "    </tr>\n",
       "  </tbody>\n",
       "</table>\n",
       "</div>"
      ],
      "text/plain": [
       "                          name mfr type  calories  protein  fat  sodium  \\\n",
       "1                     All-Bran   K    C        70        4    1     260   \n",
       "2       All-BranwithExtraFiber   K    C        50        4    0     140   \n",
       "10                    Cheerios   G    C       110        6    2     290   \n",
       "40                        Life   Q    C       100        4    2     150   \n",
       "42                       Maypo   A    H       100        4    1       0   \n",
       "43   MuesliRaisinsDatesAlmonds   R    C       150        4    3      95   \n",
       "44  MuesliRaisinsPeachesPecans   R    C       150        4    3     150   \n",
       "55            QuakerOatSquares   Q    C       100        4    1     135   \n",
       "56               QuakerOatmeal   Q    H       100        5    2       0   \n",
       "66                    SpecialK   K    C       110        6    0     230   \n",
       "\n",
       "    fiber carbo sugars potass  vitamins  shelf  weight  cups     rating  \n",
       "1     9.0     7      5    320        25      3     1.0  0.33  59.425505  \n",
       "2    14.0     8      0    330        25      3     1.0  0.50  93.704912  \n",
       "10    2.0    17      1    105        25      1     1.0  1.25  50.764999  \n",
       "40    2.0    12      6     95        25      2     1.0  0.67  45.328074  \n",
       "42    0.0    16      3     95        25      2     1.0  1.00  54.850917  \n",
       "43    3.0    16     11    170        25      3     1.0  1.00  37.136863  \n",
       "44    3.0    16     11    170        25      3     1.0  1.00  34.139765  \n",
       "55    2.0    14      6    110        25      3     1.0  0.50  49.511874  \n",
       "56    2.7     ?      ?    110         0      1     1.0  0.67  50.828392  \n",
       "66    1.0    16      3     55        25      1     1.0  1.00  53.131324  "
      ]
     },
     "execution_count": 10,
     "metadata": {},
     "output_type": "execute_result"
    }
   ],
   "source": [
    "frame[frame[\"protein\"]>3]"
   ]
  },
  {
   "cell_type": "markdown",
   "id": "cdde53fe",
   "metadata": {},
   "source": [
    "8.\tTabulate and visualize Cereals by display Shelf."
   ]
  },
  {
   "cell_type": "code",
   "execution_count": 11,
   "id": "1db61392",
   "metadata": {},
   "outputs": [
    {
     "data": {
      "image/png": "[encoded data removed]",
      "text/plain": [
       "<Figure size 640x480 with 1 Axes>"
      ]
     },
     "metadata": {},
     "output_type": "display_data"
    },
    {
     "data": {
      "text/plain": [
       "shelf\n",
       "3    35\n",
       "2    21\n",
       "1    20\n",
       "Name: count, dtype: int64"
      ]
     },
     "execution_count": 11,
     "metadata": {},
     "output_type": "execute_result"
    }
   ],
   "source": [
    "color = [\"red\",\"green\",\"blue\"]\n",
    "plt.bar(frame['shelf'].value_counts().index,frame['shelf'].value_counts(),color = color)\n",
    "plt.title('Cereals by Display Shelf')\n",
    "plt.xlabel('Shelf')\n",
    "plt.ylabel('Number of Cereals')\n",
    "plt.show()\n",
    "frame['shelf'].value_counts()"
   ]
  },
  {
   "cell_type": "markdown",
   "id": "d2d4e570-f5c3-48d8-84cb-cde19d38d80d",
   "metadata": {},
   "source": [
    "9.\tHow does the sugar content vary across different brands?"
   ]
  },
  {
   "cell_type": "code",
   "execution_count": 12,
   "id": "5257c176-9017-4e29-bc96-9301e1671b6f",
   "metadata": {},
   "outputs": [
    {
     "name": "stdout",
     "output_type": "stream",
     "text": [
      "sugar is between 3-7 grams with an average of 7\n"
     ]
    },
    {
     "data": {
      "image/png": "[encoded data removed]",
      "text/plain": [
       "<Figure size 640x480 with 1 Axes>"
      ]
     },
     "metadata": {},
     "output_type": "display_data"
    }
   ],
   "source": [
    "pd.to_numeric(frame['sugars'][frame['sugars']!='?']).plot(kind='box',title='Variation of Sugar across all brands')\n",
    "print(\"sugar is between 3-7 grams with an average of 7\")"
   ]
  },
  {
   "cell_type": "markdown",
   "id": "0a461f6b-c578-4677-b06b-1d1445d41cd4",
   "metadata": {},
   "source": [
    "10.\tWhat is the average calories in cereals per manufacturer?"
   ]
  },
  {
   "cell_type": "code",
   "execution_count": 13,
   "id": "8ba0acc9-0215-4c1e-b4ea-b5e2dff35211",
   "metadata": {},
   "outputs": [
    {
     "name": "stdout",
     "output_type": "stream",
     "text": [
      "Average calories for Manufacturer  Q :  95.0\n",
      "Average calories for Manufacturer  K :  108.69565217391305\n",
      "Average calories for Manufacturer  R :  115.0\n",
      "Average calories for Manufacturer  G :  111.36363636363636\n",
      "Average calories for Manufacturer  P :  108.88888888888889\n",
      "Average calories for Manufacturer  N :  90.0\n",
      "Average calories for Manufacturer  A :  100.0\n"
     ]
    }
   ],
   "source": [
    "for i in b.unique():\n",
    "    print('Average calories for Manufacturer ',i,': ',np.mean(frame['calories'][frame['mfr']==i]))"
   ]
  },
  {
   "cell_type": "markdown",
   "id": "cc75bad0-25d9-44ec-ab84-d55815e252fe",
   "metadata": {},
   "source": [
    "11.\tWhat is the average nutritional content (calories, sugars, protein, fiber, etc.) across all cereals?"
   ]
  },
  {
   "cell_type": "code",
   "execution_count": 14,
   "id": "39734b69-a58f-4388-8e0c-558099f0e4b9",
   "metadata": {},
   "outputs": [
    {
     "name": "stdout",
     "output_type": "stream",
     "text": [
      "Average calories:  107.36842105263158\n",
      "Average protein:  2.526315789473684\n",
      "Average fat:  1.013157894736842\n",
      "Average sodium:  160.06578947368422\n",
      "Average fiber:  2.0486842105263157\n",
      "Average carbohydrates:  14.933333333333334\n",
      "Average sugar:  7.04\n",
      "Average potassium:  96.21621621621621\n",
      "Average vitamins:  28.289473684210527\n"
     ]
    }
   ],
   "source": [
    "print('Average calories: ',np.mean(frame['calories']))\n",
    "print('Average protein: ',np.mean(frame['protein']))\n",
    "print('Average fat: ',np.mean(frame['fat']))\n",
    "print('Average sodium: ',np.mean(frame['sodium']))\n",
    "print('Average fiber: ',np.mean(frame['fiber']))\n",
    "print('Average carbohydrates: ',np.mean(np.float64(frame['carbo'][frame['carbo']!='?'])))\n",
    "print('Average sugar: ',np.mean(np.float64(frame['sugars'][frame['sugars']!='?'])))\n",
    "print('Average potassium: ',np.mean(np.float64(frame['potass'][frame['potass']!='?'])))\n",
    "print('Average vitamins: ',np.mean(frame['vitamins']))"
   ]
  },
  {
   "cell_type": "markdown",
   "id": "0658625f-1255-4873-9a0b-da0ad918af58",
   "metadata": {},
   "source": [
    "12.\tWhat is the relationship between sugar and calories?"
   ]
  },
  {
   "cell_type": "code",
   "execution_count": 15,
   "id": "ca7e00ff-449c-4fb8-bd6b-46864c9d0796",
   "metadata": {},
   "outputs": [
    {
     "data": {
      "image/png": "[encoded data removed]",
      "text/plain": [
       "<Figure size 640x480 with 1 Axes>"
      ]
     },
     "metadata": {},
     "output_type": "display_data"
    }
   ],
   "source": [
    "invalid =np.where(frame['sugars'] == '?')[0]\n",
    "plt.scatter(np.float64(frame['sugars'].drop(index=invalid)),frame['calories'].drop(index=invalid))\n",
    "plt.title('Sugar vs Calories')\n",
    "plt.show()"
   ]
  },
  {
   "cell_type": "markdown",
   "id": "03a6a4c9-7517-4f5a-a269-7f854f1ea3f2",
   "metadata": {},
   "source": [
    "13.\tHow does the sugar content compare in cereals with high vs. low ratings?"
   ]
  },
  {
   "cell_type": "code",
   "execution_count": 16,
   "id": "1a2f161c-8dd1-41e1-8165-6148d77448f3",
   "metadata": {},
   "outputs": [
    {
     "data": {
      "image/png": "[encoded data removed]",
      "text/plain": [
       "<Figure size 640x480 with 1 Axes>"
      ]
     },
     "metadata": {},
     "output_type": "display_data"
    }
   ],
   "source": [
    "plt.scatter(np.float64(frame['sugars'].drop(index=invalid)),frame['rating'].drop(index=invalid))\n",
    "plt.title('Rating vs Calories')\n",
    "plt.show()"
   ]
  },
  {
   "cell_type": "markdown",
   "id": "926870dc-9a3f-4238-b776-61311ec1be93",
   "metadata": {},
   "source": [
    "14.\tDo cereals marketed as \"healthy\" (e.g., high fiber, low sugar) tend to have higher ratings?"
   ]
  },
  {
   "cell_type": "code",
   "execution_count": 17,
   "id": "5d943eae-020b-4a91-9207-bca49d0ba15b",
   "metadata": {},
   "outputs": [
    {
     "name": "stdout",
     "output_type": "stream",
     "text": [
      "Average rating for healthy cereals:  54.580709999999996\n",
      "Total Average Rating:  42.32705672368421\n",
      "The top 5 cereals have a higher average rating than the total average\n",
      "cereals with the highest fiber and lower sugar\n"
     ]
    },
    {
     "data": {
      "text/html": [
       "<div>\n",
       "<style scoped>\n",
       "    .dataframe tbody tr th:only-of-type {\n",
       "        vertical-align: middle;\n",
       "    }\n",
       "\n",
       "    .dataframe tbody tr th {\n",
       "        vertical-align: top;\n",
       "    }\n",
       "\n",
       "    .dataframe thead th {\n",
       "        text-align: right;\n",
       "    }\n",
       "</style>\n",
       "<table border=\"1\" class=\"dataframe\">\n",
       "  <thead>\n",
       "    <tr style=\"text-align: right;\">\n",
       "      <th></th>\n",
       "      <th>name</th>\n",
       "      <th>mfr</th>\n",
       "      <th>type</th>\n",
       "      <th>calories</th>\n",
       "      <th>protein</th>\n",
       "      <th>fat</th>\n",
       "      <th>sodium</th>\n",
       "      <th>fiber</th>\n",
       "      <th>carbo</th>\n",
       "      <th>sugars</th>\n",
       "      <th>potass</th>\n",
       "      <th>vitamins</th>\n",
       "      <th>shelf</th>\n",
       "      <th>weight</th>\n",
       "      <th>cups</th>\n",
       "      <th>rating</th>\n",
       "    </tr>\n",
       "  </thead>\n",
       "  <tbody>\n",
       "    <tr>\n",
       "      <th>2</th>\n",
       "      <td>All-BranwithExtraFiber</td>\n",
       "      <td>K</td>\n",
       "      <td>C</td>\n",
       "      <td>50</td>\n",
       "      <td>4</td>\n",
       "      <td>0</td>\n",
       "      <td>140</td>\n",
       "      <td>14.0</td>\n",
       "      <td>8</td>\n",
       "      <td>0</td>\n",
       "      <td>330</td>\n",
       "      <td>25</td>\n",
       "      <td>3</td>\n",
       "      <td>1.00</td>\n",
       "      <td>0.50</td>\n",
       "      <td>93.704912</td>\n",
       "    </tr>\n",
       "    <tr>\n",
       "      <th>1</th>\n",
       "      <td>All-Bran</td>\n",
       "      <td>K</td>\n",
       "      <td>C</td>\n",
       "      <td>70</td>\n",
       "      <td>4</td>\n",
       "      <td>1</td>\n",
       "      <td>260</td>\n",
       "      <td>9.0</td>\n",
       "      <td>7</td>\n",
       "      <td>5</td>\n",
       "      <td>320</td>\n",
       "      <td>25</td>\n",
       "      <td>3</td>\n",
       "      <td>1.00</td>\n",
       "      <td>0.33</td>\n",
       "      <td>59.425505</td>\n",
       "    </tr>\n",
       "    <tr>\n",
       "      <th>51</th>\n",
       "      <td>PostNatRaisinBran</td>\n",
       "      <td>P</td>\n",
       "      <td>C</td>\n",
       "      <td>120</td>\n",
       "      <td>3</td>\n",
       "      <td>1</td>\n",
       "      <td>200</td>\n",
       "      <td>6.0</td>\n",
       "      <td>11</td>\n",
       "      <td>14</td>\n",
       "      <td>260</td>\n",
       "      <td>25</td>\n",
       "      <td>3</td>\n",
       "      <td>1.33</td>\n",
       "      <td>0.67</td>\n",
       "      <td>37.840594</td>\n",
       "    </tr>\n",
       "    <tr>\n",
       "      <th>26</th>\n",
       "      <td>FruiFibreDatesWalnutsandOats</td>\n",
       "      <td>P</td>\n",
       "      <td>C</td>\n",
       "      <td>120</td>\n",
       "      <td>3</td>\n",
       "      <td>2</td>\n",
       "      <td>160</td>\n",
       "      <td>5.0</td>\n",
       "      <td>12</td>\n",
       "      <td>10</td>\n",
       "      <td>200</td>\n",
       "      <td>25</td>\n",
       "      <td>3</td>\n",
       "      <td>1.25</td>\n",
       "      <td>0.67</td>\n",
       "      <td>40.917047</td>\n",
       "    </tr>\n",
       "    <tr>\n",
       "      <th>27</th>\n",
       "      <td>FruitfulBran</td>\n",
       "      <td>K</td>\n",
       "      <td>C</td>\n",
       "      <td>120</td>\n",
       "      <td>3</td>\n",
       "      <td>0</td>\n",
       "      <td>240</td>\n",
       "      <td>5.0</td>\n",
       "      <td>14</td>\n",
       "      <td>12</td>\n",
       "      <td>190</td>\n",
       "      <td>25</td>\n",
       "      <td>3</td>\n",
       "      <td>1.33</td>\n",
       "      <td>0.67</td>\n",
       "      <td>41.015492</td>\n",
       "    </tr>\n",
       "  </tbody>\n",
       "</table>\n",
       "</div>"
      ],
      "text/plain": [
       "                            name mfr type  calories  protein  fat  sodium  \\\n",
       "2         All-BranwithExtraFiber   K    C        50        4    0     140   \n",
       "1                       All-Bran   K    C        70        4    1     260   \n",
       "51             PostNatRaisinBran   P    C       120        3    1     200   \n",
       "26  FruiFibreDatesWalnutsandOats   P    C       120        3    2     160   \n",
       "27                  FruitfulBran   K    C       120        3    0     240   \n",
       "\n",
       "    fiber carbo sugars potass  vitamins  shelf  weight  cups     rating  \n",
       "2    14.0     8      0    330        25      3    1.00  0.50  93.704912  \n",
       "1     9.0     7      5    320        25      3    1.00  0.33  59.425505  \n",
       "51    6.0    11     14    260        25      3    1.33  0.67  37.840594  \n",
       "26    5.0    12     10    200        25      3    1.25  0.67  40.917047  \n",
       "27    5.0    14     12    190        25      3    1.33  0.67  41.015492  "
      ]
     },
     "execution_count": 17,
     "metadata": {},
     "output_type": "execute_result"
    }
   ],
   "source": [
    "print('Average rating for healthy cereals: ',np.mean(frame.sort_values(by =['fiber','sugars'],ascending=[False,True]).iloc[:5]['rating']))\n",
    "print('Total Average Rating: ',np.mean(frame['rating']))\n",
    "print(\"The top 5 cereals have a higher average rating than the total average\")\n",
    "print('cereals with the highest fiber and lower sugar') \n",
    "frame.sort_values(by =['fiber','sugars'],ascending=[False,True]).iloc[:5]"
   ]
  },
  {
   "cell_type": "markdown",
   "id": "632ad7fc-c205-482b-acf4-30e68ae21f1c",
   "metadata": {},
   "source": [
    "15.\tIs there a relationship between rating and display shelf?"
   ]
  },
  {
   "cell_type": "code",
   "execution_count": 18,
   "id": "54224d26-7442-408a-813b-c4c092a67732",
   "metadata": {},
   "outputs": [
    {
     "data": {
      "image/png": "[encoded data removed]",
      "text/plain": [
       "<Figure size 640x480 with 1 Axes>"
      ]
     },
     "metadata": {},
     "output_type": "display_data"
    }
   ],
   "source": [
    "rating= frame.groupby('shelf')['rating'].mean()\n",
    "plt.bar(rating.index, rating.values)\n",
    "plt.title('Average Rating by Display Shelf')\n",
    "plt.xlabel('Shelf')\n",
    "plt.ylabel('Average Rating')\n",
    "plt.show()\n"
   ]
  },
  {
   "cell_type": "code",
   "execution_count": null,
   "id": "e3b306ba-7e46-4c5a-a005-256282c33806",
   "metadata": {},
   "outputs": [],
   "source": []
  }
 ],
 "metadata": {
  "kernelspec": {
   "display_name": ".venv",
   "language": "python",
   "name": "python3"
  },
  "language_info": {
   "codemirror_mode": {
    "name": "ipython",
    "version": 3
   },
   "file_extension": ".py",
   "mimetype": "text/x-python",
   "name": "python",
   "nbconvert_exporter": "python",
   "pygments_lexer": "ipython3",
   "version": "3.10.12"
  }
 },
 "nbformat": 4,
 "nbformat_minor": 5
}
